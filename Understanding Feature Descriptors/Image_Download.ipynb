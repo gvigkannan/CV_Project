{
 "cells": [
  {
   "cell_type": "code",
   "execution_count": 2,
   "metadata": {},
   "outputs": [],
   "source": [
    "import pandas as pd \n",
    "import numpy as np \n",
    "import urllib\n",
    "import os "
   ]
  },
  {
   "cell_type": "code",
   "execution_count": 3,
   "metadata": {},
   "outputs": [],
   "source": [
    "data_1 = pd.read_csv(\"cars_ImageNet_v1.txt\", sep='\\n', header = None)"
   ]
  },
  {
   "cell_type": "code",
   "execution_count": 45,
   "metadata": {},
   "outputs": [
    {
     "ename": "AttributeError",
     "evalue": "'str' object has no attribute 'decode'",
     "output_type": "error",
     "traceback": [
      "\u001b[1;31m---------------------------------------------------------------------------\u001b[0m",
      "\u001b[1;31mAttributeError\u001b[0m                            Traceback (most recent call last)",
      "\u001b[1;32m<ipython-input-45-118a577e87ae>\u001b[0m in \u001b[0;36m<module>\u001b[1;34m\u001b[0m\n\u001b[1;32m----> 1\u001b[1;33m \u001b[0mdata_1\u001b[0m\u001b[1;33m[\u001b[0m\u001b[1;36m0\u001b[0m\u001b[1;33m]\u001b[0m\u001b[1;33m[\u001b[0m\u001b[1;36m0\u001b[0m\u001b[1;33m]\u001b[0m\u001b[1;33m.\u001b[0m\u001b[0mdecode\u001b[0m\u001b[1;33m(\u001b[0m\u001b[1;33m)\u001b[0m\u001b[1;33m\u001b[0m\u001b[1;33m\u001b[0m\u001b[0m\n\u001b[0m",
      "\u001b[1;31mAttributeError\u001b[0m: 'str' object has no attribute 'decode'"
     ]
    }
   ],
   "source": []
  },
  {
   "cell_type": "code",
   "execution_count": 20,
   "metadata": {},
   "outputs": [
    {
     "data": {
      "text/plain": [
       "array(['http://farm2.static.flickr.com/1255/1408362724_60deb2b753.jpg'],\n",
       "      dtype=object)"
      ]
     },
     "execution_count": 20,
     "metadata": {},
     "output_type": "execute_result"
    }
   ],
   "source": [
    "data_1[0]"
   ]
  },
  {
   "cell_type": "code",
   "execution_count": 1,
   "metadata": {},
   "outputs": [],
   "source": [
    "def download_image(url, name):\n",
    "    full_name = str(name) + \".jpg\"\n",
    "    img_name = os.path.basename(full_name)\n",
    "    try:\n",
    "        print(name, \": Link Worked!\")\n",
    "        urllib.request.urlretrieve(url,img_name)\n",
    "    except:\n",
    "        print(name, \": Link Doesn't Work\")\n"
   ]
  },
  {
   "cell_type": "code",
   "execution_count": 46,
   "metadata": {},
   "outputs": [
    {
     "data": {
      "text/plain": [
       "'http://farm2.static.flickr.com/1255/1408362724_60deb2b753.jpg'"
      ]
     },
     "execution_count": 46,
     "metadata": {},
     "output_type": "execute_result"
    }
   ],
   "source": [
    "data_1[0][0]"
   ]
  },
  {
   "cell_type": "code",
   "execution_count": 53,
   "metadata": {},
   "outputs": [],
   "source": [
    "download_image(data_1[0][1], str(\"image\"))"
   ]
  },
  {
   "cell_type": "code",
   "execution_count": 57,
   "metadata": {},
   "outputs": [
    {
     "data": {
      "text/plain": [
       "(1366,)"
      ]
     },
     "execution_count": 57,
     "metadata": {},
     "output_type": "execute_result"
    }
   ],
   "source": [
    "np.shape(data_1[0])"
   ]
  },
  {
   "cell_type": "code",
   "execution_count": 58,
   "metadata": {},
   "outputs": [
    {
     "name": "stdout",
     "output_type": "stream",
     "text": [
      "Link Doesn't Work\n",
      "Link Doesn't Work\n",
      "Link Doesn't Work\n",
      "Link Doesn't Work\n",
      "Link Doesn't Work\n",
      "Link Doesn't Work\n",
      "Link Doesn't Work\n",
      "Link Doesn't Work\n",
      "Link Doesn't Work\n",
      "Link Doesn't Work\n",
      "Link Doesn't Work\n",
      "Link Doesn't Work\n",
      "Link Doesn't Work\n",
      "Link Doesn't Work\n",
      "Link Doesn't Work\n",
      "Link Doesn't Work\n",
      "Link Doesn't Work\n",
      "Link Doesn't Work\n",
      "Link Doesn't Work\n",
      "Link Doesn't Work\n",
      "Link Doesn't Work\n",
      "Link Doesn't Work\n",
      "Link Doesn't Work\n",
      "Link Doesn't Work\n",
      "Link Doesn't Work\n",
      "Link Doesn't Work\n",
      "Link Doesn't Work\n",
      "Link Doesn't Work\n",
      "Link Doesn't Work\n",
      "Link Doesn't Work\n",
      "Link Doesn't Work\n",
      "Link Doesn't Work\n",
      "Link Doesn't Work\n",
      "Link Doesn't Work\n",
      "Link Doesn't Work\n",
      "Link Doesn't Work\n"
     ]
    }
   ],
   "source": [
    "for i in range(1366):\n",
    "    download_image(data_1[0][i], str(i))"
   ]
  }
 ],
 "metadata": {
  "kernelspec": {
   "display_name": "Python 3",
   "language": "python",
   "name": "python3"
  },
  "language_info": {
   "codemirror_mode": {
    "name": "ipython",
    "version": 3
   },
   "file_extension": ".py",
   "mimetype": "text/x-python",
   "name": "python",
   "nbconvert_exporter": "python",
   "pygments_lexer": "ipython3",
   "version": "3.7.4"
  }
 },
 "nbformat": 4,
 "nbformat_minor": 4
}

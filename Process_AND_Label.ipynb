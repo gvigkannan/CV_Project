{
 "metadata": {
  "language_info": {
   "codemirror_mode": {
    "name": "ipython",
    "version": 3
   },
   "file_extension": ".py",
   "mimetype": "text/x-python",
   "name": "python",
   "nbconvert_exporter": "python",
   "pygments_lexer": "ipython3",
   "version": "3.7.7-final"
  },
  "orig_nbformat": 2,
  "kernelspec": {
   "name": "python3",
   "display_name": "Python 3"
  }
 },
 "nbformat": 4,
 "nbformat_minor": 2,
 "cells": [
  {
   "cell_type": "code",
   "execution_count": 1,
   "metadata": {},
   "outputs": [],
   "source": [
    "#Notebook to Show the Preprocess and Labeling Steps!\n",
    "#Dataset is split into Cars and NoCars so Labeling will be based on that!"
   ]
  },
  {
   "cell_type": "code",
   "execution_count": 2,
   "metadata": {},
   "outputs": [],
   "source": [
    "import numpy as np\n",
    "import pandas as pd \n",
    "import os\n",
    "import time\n"
   ]
  },
  {
   "cell_type": "code",
   "execution_count": 3,
   "metadata": {},
   "outputs": [],
   "source": [
    "import cv2\n",
    "from PIL import Image\n",
    "import tensorflow as tf\n",
    "from random import randrange\n",
    "import pickle\n",
    "import json"
   ]
  },
  {
   "cell_type": "code",
   "execution_count": 4,
   "metadata": {},
   "outputs": [
    {
     "output_type": "stream",
     "name": "stdout",
     "text": [
      "['AlexNet_Keras.ipynb', 'Car_Sample', 'NoCar_Sample', 'Process_AND_Label.ipynb', 'sample_test_data.pkl', 'sample_train_data.pkl', 'Test', 'Train']\n"
     ]
    }
   ],
   "source": [
    "print(os.listdir(os.getcwd()))"
   ]
  },
  {
   "cell_type": "code",
   "execution_count": 5,
   "metadata": {},
   "outputs": [],
   "source": [
    "#I:\\WPI\\Fall 2020\\Computer Vision - RBE 549\\CV Project\\AlexNet_Implementation\\Car_Sample\\Train"
   ]
  },
  {
   "cell_type": "code",
   "execution_count": 6,
   "metadata": {
    "tags": []
   },
   "outputs": [],
   "source": [
    "#Extracting all training images for car - Trial\n",
    "# train_car_path = \"\\\\\".join((car_path, \"train\"))\n",
    "# train_car_dir = os.listdir(train_car_path)\n",
    "# train_img = []\n",
    "# train_path = train_car_path\n",
    "# img_dir = train_car_dir\n",
    "# for img_name in img_dir:\n",
    "#     img_path = \"\\\\\".join((train_path, img_name))\n",
    "#     #print(\"Path: \", img_path)\n",
    "#     img_grey = np.array(Image.open(img_path).convert('LA'))\n",
    "#     img_grey = tf.image.resize(img_grey, (256,256),preserve_aspect_ratio=False).numpy()\n",
    "#     #(print())\n",
    "#     train_img.append([1, img_grey[:, :, 0]])\n",
    "# print(train_img[1][1])\n",
    "# train_car_img = np.array(train_img)"
   ]
  },
  {
   "cell_type": "code",
   "execution_count": 7,
   "metadata": {},
   "outputs": [],
   "source": [
    "#Extracting all car images for \n",
    "def extract_resize_img(folder_path, dataset_type, label_name):\n",
    "    \"\"\"\n",
    "    Extract images in grayscale and resize them. \n",
    "    Return back the extracted images with associated label.\n",
    "    \"\"\"\n",
    "    dataset_path = \"\\\\\".join((folder_path, dataset_type))\n",
    "    img_dir = os.listdir(dataset_path)\n",
    "    img_data = []\n",
    "    for img_name in img_dir:\n",
    "        img_path = \"\\\\\".join((dataset_path, img_name))\n",
    "        #print(\"Path: \", img_path)\n",
    "        img_grey = np.array(Image.open(img_path).convert('LA'))\n",
    "        img_grey = tf.image.resize(img_grey, (256, 256), preserve_aspect_ratio=False).numpy()\n",
    "        #img_grey = img_grey.reshape(256, 256, 1)\n",
    "        #img_data.append([img_grey[:, :, 0]])\n",
    "\n",
    "        img_data.append([img_grey[:, :, 0]])\n",
    "\n",
    "    return(np.array(img_data))\n",
    "\n"
   ]
  },
  {
   "cell_type": "code",
   "execution_count": 8,
   "metadata": {},
   "outputs": [],
   "source": [
    "def random_shuffle(img, label = 1):\n",
    "    label_mtx = label* np.shape(img)[0]\n",
    "    permutation = np.random.permutation(np.shape(label))\n",
    "    img = img[permutation]\n",
    "    label = img[permutation]"
   ]
  },
  {
   "cell_type": "code",
   "execution_count": 9,
   "metadata": {},
   "outputs": [],
   "source": [
    "folder_path = os.getcwd()\n",
    "car_path = \"\\\\\".join((folder_path, \"Car_Sample\"))\n",
    "noise_path = \"\\\\\".join((folder_path, \"NoCar_Sample\"))"
   ]
  },
  {
   "cell_type": "code",
   "execution_count": 10,
   "metadata": {},
   "outputs": [
    {
     "output_type": "stream",
     "name": "stdout",
     "text": [
      "Time Taken:  3.4842419624328613\n"
     ]
    }
   ],
   "source": [
    "#Worked!\n",
    "#Split up the extraction process if it take too much time!\n",
    "start_time = time.time()\n",
    "car_img_train = extract_resize_img(folder_path = car_path, dataset_type = 'train', label_name = 1)\n",
    "car_img_train = car_img_train.reshape(car_img_train.shape[0], 256, 256, 1)\n",
    "\n",
    "car_img_test = extract_resize_img(folder_path = car_path, dataset_type = 'test', label_name = 1)\n",
    "car_img_test = car_img_test.reshape(car_img_test.shape[0], 256, 256, 1)\n",
    "\n",
    "noise_img_train = extract_resize_img(folder_path = noise_path, dataset_type = 'train', label_name = 0)\n",
    "noise_img_train = noise_img_train.reshape(noise_img_train.shape[0], 256, 256, 1)\n",
    "\n",
    "noise_img_test = extract_resize_img(folder_path = noise_path, dataset_type = 'test', label_name = 0)\n",
    "noise_img_test = noise_img_test.reshape(noise_img_test.shape[0], 256, 256, 1)\n",
    "\n",
    "print(\"Time Taken: \", time.time() - start_time)"
   ]
  },
  {
   "cell_type": "code",
   "execution_count": 17,
   "metadata": {},
   "outputs": [],
   "source": [
    "label_car_train = [1] * car_img_train.shape[0]\n",
    "label_noise_train = [0] * noise_img_train.shape[0]\n",
    "train_img = np.concatenate([car_img_train, noise_img_train])\n",
    "train_label = np.concatenate([label_car_train, label_noise_train])\n",
    "\n",
    "permute_train = np.random.permutation(len(train_label))\n",
    "\n",
    "train_img   = train_img[permute_train]\n",
    "train_label = train_label[permute_train]"
   ]
  },
  {
   "cell_type": "code",
   "execution_count": 18,
   "metadata": {},
   "outputs": [],
   "source": [
    "label_car_test= [1] * car_img_test.shape[0]\n",
    "label_noise_test = [0] * noise_img_test.shape[0]\n",
    "test_img = np.concatenate([car_img_test, noise_img_test])\n",
    "test_label = np.concatenate([label_car_test, label_noise_test])\n",
    "\n",
    "permute_test = np.random.permutation(len(test_label))\n",
    "\n",
    "test_img   = train_img[permute_test]\n",
    "test_label = train_label[permute_test]\n"
   ]
  },
  {
   "cell_type": "code",
   "execution_count": 19,
   "metadata": {},
   "outputs": [
    {
     "output_type": "execute_result",
     "data": {
      "text/plain": [
       "array([1, 1, 0, 0, 1, 1, 0, 1, 1, 1, 0, 1, 0, 0, 1, 1, 1, 0, 1, 1])"
      ]
     },
     "metadata": {},
     "execution_count": 19
    }
   ],
   "source": [
    "test_label"
   ]
  },
  {
   "cell_type": "code",
   "execution_count": 110,
   "metadata": {},
   "outputs": [
    {
     "output_type": "stream",
     "name": "stdout",
     "text": [
      "[1, 1, 1, 1, 1, 1, 1, 1, 1, 1, 1, 1, 1, 1, 1, 1, 1, 1, 1, 1, 1, 1, 1, 1, 1, 1, 1, 1, 1, 1, 1, 1, 1, 1, 1, 1, 1, 1, 1, 1, 1, 1, 1, 1, 1, 1, 1, 1, 1, 1, 1, 1, 1, 1, 1, 1, 1, 1, 1, 1, 1, 1, 1, 1, 1, 1, 1, 1, 1, 1, 1, 1, 1, 1, 1, 1, 1, 1, 1, 1, 1, 1, 1, 1, 1, 1, 1, 1, 1, 1]\n"
     ]
    }
   ],
   "source": [
    "# label_car_train = [1] * np.shape(car_img_train)[0]\n",
    "# print(label_car_train)\n",
    "# # np.shape(label_car)\n",
    "# # np.shape(car_img_train)[0]\n",
    "# # permutation = np.random.permutation(np.shape(car_img_train)[0])\n",
    "# #car_img_train[:, 1] = car_img_train.reshape(car_img_train.shape[0], 256, 256, 1)"
   ]
  },
  {
   "cell_type": "code",
   "execution_count": 105,
   "metadata": {},
   "outputs": [
    {
     "output_type": "stream",
     "name": "stdout",
     "text": [
      "(90, 256, 256, 1)\n"
     ]
    }
   ],
   "source": [
    "# #print(car_img_train.shape)\n",
    "# #print((car_img_train[1]))\n",
    "# car_img_train = car_img_train.reshape(car_img_train.shape[0], 256, 256, 1)\n",
    "# print(car_img_train.shape)"
   ]
  },
  {
   "cell_type": "code",
   "execution_count": 73,
   "metadata": {},
   "outputs": [],
   "source": [
    "# train_data = np.concatenate([car_img_train, noise_img_train])\n",
    "# np.random.shuffle(train_data)\n",
    "# test_data = np.concatenate([car_img_test, noise_img_test])\n",
    "# np.random.shuffle(test_data)"
   ]
  },
  {
   "cell_type": "code",
   "execution_count": 74,
   "metadata": {},
   "outputs": [
    {
     "output_type": "stream",
     "name": "stdout",
     "text": [
      "Train:  (180, 2)\nTest:  (20, 2)\n"
     ]
    }
   ],
   "source": [
    "# print(\"Train: \", np.shape(train_data))\n",
    "# print(\"Test: \", np.shape(test_data))"
   ]
  },
  {
   "cell_type": "code",
   "execution_count": 21,
   "metadata": {},
   "outputs": [
    {
     "output_type": "stream",
     "name": "stdout",
     "text": [
      "Train Img:  (180, 256, 256, 1)\nTest Img:  (20, 256, 256, 1)\nTrain Label:  (180,)\nTest Label:  (20,)\n"
     ]
    }
   ],
   "source": [
    "print(\"Train Img: \", np.shape(train_img))\n",
    "print(\"Test Img: \", np.shape(test_img))\n",
    "\n",
    "\n",
    "print(\"Train Label: \", np.shape(train_label))\n",
    "print(\"Test Label: \", np.shape(test_label))"
   ]
  },
  {
   "cell_type": "code",
   "execution_count": 23,
   "metadata": {},
   "outputs": [
    {
     "output_type": "stream",
     "name": "stdout",
     "text": [
      "Train Label: 0\nTrain Img:\n (256, 256, 1)\n\n\n\nTest Label: 1\nTest Img:\n (256, 256, 1)\n"
     ]
    }
   ],
   "source": [
    "#Testing!\n",
    "\n",
    "print(\"Train Label:\", train_label[1])\n",
    "print(\"Train Img:\\n\", np.shape(train_img[1]))\n",
    "print(\"\\n\\n\")\n",
    "print(\"Test Label:\", test_label[1])\n",
    "print(\"Test Img:\\n\", np.shape(test_img[1]))"
   ]
  },
  {
   "cell_type": "code",
   "execution_count": 76,
   "metadata": {},
   "outputs": [
    {
     "output_type": "stream",
     "name": "stdout",
     "text": [
      "[[0 1 2]\n [3 4 5]\n [6 7 8]]\n[[6 7 8]\n [3 4 5]\n [0 1 2]]\n"
     ]
    }
   ],
   "source": [
    "#Check if shuffle maintains the data integrity!\n",
    "arr = np.arange(9).reshape((3,3))\n",
    "print(arr)\n",
    "np.random.shuffle(arr)\n",
    "print(arr) #Checked!"
   ]
  },
  {
   "cell_type": "code",
   "execution_count": 25,
   "metadata": {},
   "outputs": [],
   "source": [
    "with open(\"sample_train_img.pkl\", \"wb\") as f_name:\n",
    "    pickle.dump(train_img, f_name)\n",
    "\n",
    "with open(\"sample_train_label.pkl\", \"wb\") as f_name:\n",
    "    pickle.dump(train_label, f_name)"
   ]
  },
  {
   "cell_type": "code",
   "execution_count": 26,
   "metadata": {},
   "outputs": [],
   "source": [
    "with open(\"sample_test_img.pkl\", \"wb\") as f_name:\n",
    "    pickle.dump(test_img, f_name)\n",
    "\n",
    "with open(\"sample_test_label.pkl\", \"wb\") as f_name:\n",
    "    pickle.dump(test_label, f_name)"
   ]
  },
  {
   "cell_type": "code",
   "execution_count": 27,
   "metadata": {},
   "outputs": [],
   "source": [
    "with open(\"sample_test_img.pkl\", \"rb\") as f_name:\n",
    "    train_sample = pickle.load(f_name)\n",
    "   "
   ]
  },
  {
   "cell_type": "code",
   "execution_count": 29,
   "metadata": {},
   "outputs": [],
   "source": [
    "with open(\"sample_train_label.pkl\", \"rb\") as f_name:\n",
    "    train_label_sample = pickle.load(f_name)\n",
    "   "
   ]
  },
  {
   "cell_type": "code",
   "execution_count": null,
   "metadata": {},
   "outputs": [],
   "source": []
  }
 ]
}
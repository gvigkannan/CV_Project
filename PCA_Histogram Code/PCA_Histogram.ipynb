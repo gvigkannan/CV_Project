{
 "metadata": {
  "language_info": {
   "codemirror_mode": {
    "name": "ipython",
    "version": 3
   },
   "file_extension": ".py",
   "mimetype": "text/x-python",
   "name": "python",
   "nbconvert_exporter": "python",
   "pygments_lexer": "ipython3",
   "version": "3.7.7-final"
  },
  "orig_nbformat": 2,
  "kernelspec": {
   "name": "python3",
   "display_name": "Python 3"
  }
 },
 "nbformat": 4,
 "nbformat_minor": 2,
 "cells": [
  {
   "cell_type": "code",
   "execution_count": 1,
   "metadata": {},
   "outputs": [],
   "source": [
    "import cv2 as cv\n",
    "import os\n",
    "import pandas as pd\n",
    "import numpy as np\n",
    "import json\n",
    "import pickle\n",
    "import time"
   ]
  },
  {
   "cell_type": "code",
   "execution_count": 90,
   "metadata": {},
   "outputs": [],
   "source": [
    "from sklearn.cluster import KMeans, MiniBatchKMeans\n",
    "from sklearn.decomposition import LatentDirichletAllocation as LDA, PCA\n",
    "from sklearn.preprocessing import StandardScaler, MinMaxScaler\n",
    "from sklearn.svm import SVC\n",
    "from sklearn.utils import shuffle\n",
    "from sklearn.metrics import accuracy_score, confusion_matrix\n",
    "from sklearn.metrics import accuracy_score, confusion_matrix, f1_score, precision_score, recall_score, roc_auc_score, confusion_matrix, classification_report"
   ]
  },
  {
   "cell_type": "code",
   "execution_count": 3,
   "metadata": {},
   "outputs": [],
   "source": [
    "import winsound\n",
    "duration = 800  # milliseconds\n",
    "freq = 300  # Hz\n",
    "winsound.Beep(freq, duration)"
   ]
  },
  {
   "cell_type": "code",
   "execution_count": 95,
   "metadata": {},
   "outputs": [],
   "source": [
    "#Load the model\n",
    "#pickle.loads(kmeans_batch, open(\"KMeans_All_Trial_1.sav\", 'wb'))\n",
    "#Extracting HoG Features\n",
    "hog_path = \"\\\\\".join((os.getcwd(), \"HOG_features\"))\n",
    "hog_files = os.listdir(hog_path)\n",
    "hog_aug_files = os.listdir(\"\\\\\".join((os.getcwd(), \"HOG_AUGMENTED\")))"
   ]
  },
  {
   "cell_type": "code",
   "execution_count": 97,
   "metadata": {},
   "outputs": [
    {
     "output_type": "stream",
     "name": "stdout",
     "text": [
      "['cars_1_6554_hog_label_train.txt', 'cars_1_819_hog_label_val.txt', 'cars_1_820_hog_label_test.txt', 'nocars_1_6776_hog_label_train.txt', 'nocars_1_847_hog_label_test.txt', 'nocars_1_847_hog_label_val.txt']\n\n['cars_1_783_hog_label_testmixed.txt', 'cars_1_790_hog_label_testbrightness.txt', 'cars_1_802_hog_label_testflipping.txt', 'cars_1_821_hog_label_testzooming.txt', 'cars_1_846_hog_label_testrotating.txt', 'nocars_1_812_hog_label_testmixed.txt', 'nocars_1_836_hog_label_testzooming.txt', 'nocars_1_843_hog_label_testrotating.txt', 'nocars_1_844_hog_label_testbrightness.txt', 'nocars_1_854_hog_label_testflipping.txt']\n"
     ]
    }
   ],
   "source": [
    "print(hog_files)\n",
    "print()\n",
    "print(hog_aug_files)"
   ]
  },
  {
   "cell_type": "code",
   "execution_count": 111,
   "metadata": {},
   "outputs": [
    {
     "output_type": "execute_result",
     "data": {
      "text/plain": [
       "'i:\\\\WPI\\\\Fall 2020\\\\Computer Vision - RBE 549\\\\CV Project\\\\PCA_HOG\\\\HOG_AUGMENTED\\\\cars_1_790_hog_label_testbrightness.txt'"
      ]
     },
     "metadata": {},
     "execution_count": 111
    }
   ],
   "source": []
  },
  {
   "cell_type": "code",
   "execution_count": 77,
   "metadata": {},
   "outputs": [],
   "source": [
    "train_car_file = \"\\\\\".join((os.getcwd(), \"HOG_features\", hog_files[0]))\n",
    "train_nocar_file = \"\\\\\".join((os.getcwd(), \"HOG_features\", hog_files[3]))\n",
    "val_car_file = \"\\\\\".join((os.getcwd(), \"HOG_features\", hog_files[1]))\n",
    "val_nocar_file = \"\\\\\".join((os.getcwd(), \"HOG_features\", hog_files[-1]))\n",
    "val_car"
   ]
  },
  {
   "cell_type": "code",
   "execution_count": 78,
   "metadata": {},
   "outputs": [],
   "source": [
    "train_car_fd = pd.DataFrame(pickle.load(open(train_car_file, 'rb')))\n",
    "train_nocar_fd = pd.DataFrame(pickle.load(open(train_nocar_file, 'rb')))\n",
    "\n",
    "val_car_fd = pd.DataFrame(pickle.load(open(val_car_file, 'rb')))\n",
    "val_nocar_fd = pd.DataFrame(pickle.load(open(val_nocar_file, 'rb')))"
   ]
  },
  {
   "cell_type": "code",
   "execution_count": 112,
   "metadata": {},
   "outputs": [],
   "source": [
    "val_carBright = pd.DataFrame(pickle.load(open(val_car_bright, 'rb')))\n",
    "val_nocarBright = pd.DataFrame(pickle.load(open(val_nocar_bright, 'rb')))"
   ]
  },
  {
   "cell_type": "code",
   "execution_count": 31,
   "metadata": {},
   "outputs": [
    {
     "output_type": "execute_result",
     "data": {
      "text/plain": [
       "8192"
      ]
     },
     "metadata": {},
     "execution_count": 31
    }
   ],
   "source": [
    "#Each descriptor has 8192 features and there is one image per descriptor"
   ]
  },
  {
   "cell_type": "code",
   "execution_count": 79,
   "metadata": {},
   "outputs": [],
   "source": [
    "train_fd = pd.concat([train_car_fd, train_nocar_fd])\n",
    "val_fd = pd.concat([val_car_fd, val_nocar_fd])"
   ]
  },
  {
   "cell_type": "code",
   "execution_count": 80,
   "metadata": {},
   "outputs": [],
   "source": [
    "train_fd = shuffle(train_fd)\n",
    "valid_fd = shuffle(val_fd)"
   ]
  },
  {
   "cell_type": "code",
   "execution_count": 98,
   "metadata": {},
   "outputs": [],
   "source": [
    "n_component = 500\n",
    "X_train = train_fd.iloc[:, 1]\n",
    "Y_train = train_fd.iloc[:, 0].values\n",
    "X_train = np.stack(X_train, axis = 0).astype(float)\n",
    "X_val = valid_fd.iloc[:, 1]\n",
    "Y_val = valid_fd.iloc[:, 0].values\n",
    "X_val = np.stack(X_val, axis = 0).astype(float)\n"
   ]
  },
  {
   "cell_type": "code",
   "execution_count": 116,
   "metadata": {},
   "outputs": [],
   "source": [
    "bright_fd = shuffle(pd.concat([val_carBright, val_nocarBright]))\n",
    "X_bright = bright_fd.iloc[:, 1]\n",
    "X_bright = np.stack(X_bright, axis = 0).astype(float)\n",
    "Y_bright = bright_fd.iloc[:, 0].values"
   ]
  },
  {
   "cell_type": "code",
   "execution_count": 99,
   "metadata": {},
   "outputs": [
    {
     "output_type": "execute_result",
     "data": {
      "text/plain": [
       "array([[0.54621013, 0.        , 0.3742874 , ..., 0.        , 0.        ,\n",
       "        0.        ],\n",
       "       [0.57023475, 0.12372745, 0.23160369, ..., 0.26805527, 0.01198031,\n",
       "        0.        ]])"
      ]
     },
     "metadata": {},
     "execution_count": 99
    }
   ],
   "source": [
    "X_train[:2]"
   ]
  },
  {
   "cell_type": "code",
   "execution_count": 100,
   "metadata": {},
   "outputs": [
    {
     "output_type": "execute_result",
     "data": {
      "text/plain": [
       "array([[0.6316689 , 0.        , 0.24929982, ..., 0.02359472, 0.01217506,\n",
       "        0.29340658],\n",
       "       [0.64673586, 0.26792491, 0.21433993, ..., 0.01877173, 0.04044378,\n",
       "        0.        ]])"
      ]
     },
     "metadata": {},
     "execution_count": 100
    }
   ],
   "source": [
    "X_val[:2]"
   ]
  },
  {
   "cell_type": "code",
   "execution_count": 101,
   "metadata": {},
   "outputs": [
    {
     "output_type": "stream",
     "name": "stdout",
     "text": [
      "PCA: \nTime: 27.9331\n"
     ]
    }
   ],
   "source": [
    "start_time = time.time()\n",
    "pca_iter = PCA(n_components = n_component)\n",
    "X_train_pca = pca_iter.fit_transform(X_train)\n",
    "print(\"PCA: \".format(pca_iter))\n",
    "# print(\"Last Component Variance: {:.4f}\".format(pca_iter.explained_variance_[-1]))\n",
    "print(\"Time: {:.4f}\".format(time.time() - start_time))"
   ]
  },
  {
   "cell_type": "code",
   "execution_count": 102,
   "metadata": {},
   "outputs": [
    {
     "output_type": "stream",
     "name": "stdout",
     "text": [
      "Last Component Variance: 0.0750\n"
     ]
    }
   ],
   "source": [
    "print(\"Last Component Variance: {:.4f}\".format(pca_iter.explained_variance_[-1]))\n"
   ]
  },
  {
   "cell_type": "code",
   "execution_count": 103,
   "metadata": {},
   "outputs": [
    {
     "output_type": "stream",
     "name": "stdout",
     "text": [
      "PCA_HoG_C500.sav\n"
     ]
    }
   ],
   "source": [
    "pca_name = \"_\".join((\"PCA_HoG\",\"C\"+str(n_component)+\".sav\"))\n",
    "print(pca_name)\n",
    "pickle.dump(pca_iter, open(pca_name, 'wb'))"
   ]
  },
  {
   "cell_type": "code",
   "execution_count": 104,
   "metadata": {},
   "outputs": [
    {
     "output_type": "stream",
     "name": "stdout",
     "text": [
      "Time 46.39\n"
     ]
    }
   ],
   "source": [
    "start_time = time.time()\n",
    "model_svm = SVC()\n",
    "model_svm.fit(X_train_pca, Y_train)\n",
    "print(\"Time {:.2f}\".format(time.time() - start_time))"
   ]
  },
  {
   "cell_type": "code",
   "execution_count": 105,
   "metadata": {},
   "outputs": [],
   "source": [
    "X_val_pca = pca_iter.transform(X_val)"
   ]
  },
  {
   "cell_type": "code",
   "execution_count": 106,
   "metadata": {},
   "outputs": [
    {
     "output_type": "execute_result",
     "data": {
      "text/plain": [
       "0.9591836734693877"
      ]
     },
     "metadata": {},
     "execution_count": 106
    }
   ],
   "source": [
    "model_svm.score(X = X_val_pca, y = Y_val)"
   ]
  },
  {
   "cell_type": "code",
   "execution_count": 107,
   "metadata": {},
   "outputs": [],
   "source": [
    "Y_val_predict = model_svm.predict(X_val_pca)\n",
    "Y_valid = Y_val"
   ]
  },
  {
   "cell_type": "code",
   "execution_count": 108,
   "metadata": {},
   "outputs": [
    {
     "output_type": "stream",
     "name": "stdout",
     "text": [
      "For Components:  500\nLast Component Variance with components: 500 = \t\t0.0750\n\nF1_score for Validation with components: 500 = \t\t0.9585\nAccuracy for Validation with components: 500 = \t\t0.9592\nPrecision for Validation with components: 500 = \t0.9585\nRecall for Validation with components: 500 = \t\t0.9585\nAUC Score for Validation with components: 500 = \t0.9592\n"
     ]
    }
   ],
   "source": [
    "print(\"For Components: \", n_component)\n",
    "print(\"Last Component Variance with components: {} = \\t\\t{:.4f}\".format(n_component, pca_iter.explained_variance_[-1]))\n",
    "print(\"\")\n",
    "print(\"F1_score for Validation with components: {} = \\t\\t{:.4f}\".format(n_component, f1_score(y_true = Y_valid, y_pred = Y_val_predict)) )\n",
    "print(\"Accuracy for Validation with components: {} = \\t\\t{:.4f}\".format(n_component, accuracy_score(y_true = Y_valid, y_pred = Y_val_predict)) )\n",
    "print(\"Precision for Validation with components: {} = \\t{:.4f}\".format(n_component, precision_score(y_true = Y_valid, y_pred = Y_val_predict)) )\n",
    "print(\"Recall for Validation with components: {} = \\t\\t{:.4f}\".format(n_component, recall_score(y_true = Y_valid, y_pred = Y_val_predict)) )\n",
    "print(\"AUC Score for Validation with components: {} = \\t{:.4f}\".format(n_component, roc_auc_score(y_true = Y_valid, y_score = Y_val_predict)) )"
   ]
  },
  {
   "cell_type": "code",
   "execution_count": 122,
   "metadata": {},
   "outputs": [
    {
     "output_type": "execute_result",
     "data": {
      "text/plain": [
       "['cars_1_783_hog_label_testmixed.txt',\n",
       " 'cars_1_790_hog_label_testbrightness.txt',\n",
       " 'cars_1_802_hog_label_testflipping.txt',\n",
       " 'cars_1_821_hog_label_testzooming.txt',\n",
       " 'cars_1_846_hog_label_testrotating.txt',\n",
       " 'nocars_1_812_hog_label_testmixed.txt',\n",
       " 'nocars_1_836_hog_label_testzooming.txt',\n",
       " 'nocars_1_843_hog_label_testrotating.txt',\n",
       " 'nocars_1_844_hog_label_testbrightness.txt',\n",
       " 'nocars_1_854_hog_label_testflipping.txt']"
      ]
     },
     "metadata": {},
     "execution_count": 122
    }
   ],
   "source": [
    "hog_aug_files"
   ]
  },
  {
   "cell_type": "code",
   "execution_count": 144,
   "metadata": {},
   "outputs": [],
   "source": [
    "cat_aug =  hog_aug_files[3]\n",
    "car_aug = \"\\\\\".join((os.getcwd(), \"HOG_AUGMENTED\", hog_aug_files[4]))\n",
    "nocar_aug = \"\\\\\".join((os.getcwd(), \"HOG_AUGMENTED\", hog_aug_files[-3]))"
   ]
  },
  {
   "cell_type": "code",
   "execution_count": 145,
   "metadata": {},
   "outputs": [],
   "source": [
    "carAug = pd.DataFrame(pickle.load(open(car_aug, 'rb')))\n",
    "nocarAug = pd.DataFrame(pickle.load(open(val_nocar_bright, 'rb')))"
   ]
  },
  {
   "cell_type": "code",
   "execution_count": 146,
   "metadata": {},
   "outputs": [],
   "source": [
    "aug_fd = shuffle(pd.concat([carAug , nocarAug]))\n",
    "X_aug = aug_fd.iloc[:, 1]\n",
    "X_aug = np.stack(X_aug, axis = 0).astype(float)\n",
    "Y_aug  = aug_fd.iloc[:, 0].values"
   ]
  },
  {
   "cell_type": "code",
   "execution_count": 147,
   "metadata": {},
   "outputs": [],
   "source": [
    "X_aug_pca = pca_iter.transform(X_aug)\n",
    "Y_aug_predict = model_svm.predict(X_aug_pca)"
   ]
  },
  {
   "cell_type": "code",
   "execution_count": 148,
   "metadata": {},
   "outputs": [
    {
     "output_type": "stream",
     "name": "stdout",
     "text": [
      "For Components for Aug:  500\ncars_1_821_hog_label_testzooming.txt\nLast Component Variance with components: 500 = \t\t0.0750\n\nF1_score for Validation with components: 500 = \t\t0.8624\nAccuracy for Validation with components: 500 = \t\t0.8757\nPrecision for Validation with components: 500 = \t0.9676\nRecall for Validation with components: 500 = \t\t0.7778\nAUC Score for Validation with components: 500 = \t0.8759\n"
     ]
    }
   ],
   "source": [
    "print(\"For Components for Aug: \", n_component)\n",
    "print(cat_aug)\n",
    "print(\"Last Component Variance with components: {} = \\t\\t{:.4f}\".format(n_component, pca_iter.explained_variance_[-1]))\n",
    "print(\"\")\n",
    "print(\"F1_score for Validation with components: {} = \\t\\t{:.4f}\".format(n_component, f1_score(y_true = Y_aug, y_pred = Y_aug_predict)))\n",
    "print(\"Accuracy for Validation with components: {} = \\t\\t{:.4f}\".format(n_component, accuracy_score(y_true = Y_aug, y_pred = Y_aug_predict)))\n",
    "print(\"Precision for Validation with components: {} = \\t{:.4f}\".format(n_component, precision_score(y_true = Y_aug, y_pred = Y_aug_predict)))\n",
    "print(\"Recall for Validation with components: {} = \\t\\t{:.4f}\".format(n_component, recall_score(y_true = Y_aug, y_pred = Y_aug_predict)))\n",
    "print(\"AUC Score for Validation with components: {} = \\t{:.4f}\".format(n_component, roc_auc_score(y_true = Y_aug, y_score = Y_aug_predict)))"
   ]
  },
  {
   "cell_type": "code",
   "execution_count": null,
   "metadata": {},
   "outputs": [],
   "source": []
  }
 ]
}
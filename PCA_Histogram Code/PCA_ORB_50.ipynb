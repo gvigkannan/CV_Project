{
 "metadata": {
  "language_info": {
   "codemirror_mode": {
    "name": "ipython",
    "version": 3
   },
   "file_extension": ".py",
   "mimetype": "text/x-python",
   "name": "python",
   "nbconvert_exporter": "python",
   "pygments_lexer": "ipython3",
   "version": "3.7.7-final"
  },
  "orig_nbformat": 2,
  "kernelspec": {
   "name": "python3",
   "display_name": "Python 3"
  }
 },
 "nbformat": 4,
 "nbformat_minor": 2,
 "cells": [
  {
   "cell_type": "code",
   "execution_count": 150,
   "metadata": {},
   "outputs": [],
   "source": [
    "import pandas as pd\n",
    "import numpy as np \n",
    "import os\n",
    "import time\n",
    "import pickle\n",
    "import winsound\n"
   ]
  },
  {
   "cell_type": "code",
   "execution_count": 151,
   "metadata": {},
   "outputs": [],
   "source": [
    "from sklearn.decomposition import LatentDirichletAllocation as LDA, PCA\n",
    "from sklearn.svm import SVC\n",
    "from sklearn.metrics import accuracy_score, confusion_matrix, f1_score, precision_score, recall_score, roc_auc_score, confusion_matrix, classification_report\n",
    "from sklearn.utils import shuffle\n",
    "from sklearn.preprocessing import MinMaxScaler"
   ]
  },
  {
   "cell_type": "code",
   "execution_count": 152,
   "metadata": {},
   "outputs": [],
   "source": [
    "start_program = time.time()\n",
    "duration = 800  # milliseconds\n",
    "freq = 300 # Hz\n",
    "winsound.Beep(freq, duration)\n",
    "n_component = 1000"
   ]
  },
  {
   "cell_type": "code",
   "execution_count": 153,
   "metadata": {},
   "outputs": [],
   "source": [
    "#Importing histograms!\n",
    "folder_path = os.getcwd()\n",
    "hist_path = \"\\\\\".join((folder_path, \"FREAK_HISTOGRAM\", \"Histograms\"))\n",
    "train_car_path = \"\\\\\".join((hist_path, \"Car\", \"Train\"))\n",
    "train_noise_path = \"\\\\\".join((hist_path, \"nocar\", \"Train\"))\n",
    "valid_car_path = \"\\\\\".join((hist_path, \"Car\", \"Val\"))\n",
    "valid_noise_path = \"\\\\\".join((hist_path, \"nocar\", \"Val\"))"
   ]
  },
  {
   "cell_type": "code",
   "execution_count": 154,
   "metadata": {},
   "outputs": [],
   "source": [
    "train_car_files = os.listdir(train_car_path)\n",
    "train_car_hist_path = \"\\\\\".join((train_car_path, train_car_files[0]))\n",
    "train_noise_files = os.listdir(train_noise_path)\n",
    "train_noise_hist_path = \"\\\\\".join((train_noise_path, train_noise_files[0]))\n",
    "\n",
    "valid_car_files = os.listdir(valid_car_path)\n",
    "valid_car_hist_path = \"\\\\\".join((valid_car_path, valid_car_files[0]))\n",
    "valid_noise_files = os.listdir(valid_noise_path)\n",
    "valid_noise_hist_path = \"\\\\\".join((valid_noise_path, valid_noise_files[0]))"
   ]
  },
  {
   "cell_type": "code",
   "execution_count": 155,
   "metadata": {},
   "outputs": [],
   "source": [
    "train_car_hist = pd.DataFrame(pickle.load(open(train_car_hist_path, 'rb')))\n",
    "train_noise_hist = pd.DataFrame(pickle.load(open(train_noise_hist_path, 'rb')))\n",
    "\n",
    "valid_car_hist = pd.DataFrame(pickle.load(open(valid_car_hist_path, 'rb')))\n",
    "valid_noise_hist = pd.DataFrame(pickle.load(open(valid_noise_hist_path, 'rb')))"
   ]
  },
  {
   "cell_type": "code",
   "execution_count": 156,
   "metadata": {},
   "outputs": [],
   "source": [
    "X_train_car = np.vstack(train_car_hist[1].values.tolist())\n",
    "Y_train_car = train_car_hist[0]"
   ]
  },
  {
   "cell_type": "code",
   "execution_count": 157,
   "metadata": {},
   "outputs": [],
   "source": [
    "X_train_noise= np.vstack(train_noise_hist[1].values.tolist())\n",
    "Y_train_noise= train_noise_hist[0]"
   ]
  },
  {
   "cell_type": "code",
   "execution_count": 158,
   "metadata": {},
   "outputs": [],
   "source": [
    "X_train = np.concatenate((X_train_car, X_train_noise))\n",
    "Y_train = np.concatenate((Y_train_car, Y_train_noise))"
   ]
  },
  {
   "cell_type": "code",
   "execution_count": 159,
   "metadata": {},
   "outputs": [
    {
     "output_type": "stream",
     "name": "stdout",
     "text": [
      "(6554, 16384)\n(6776, 16384)\n"
     ]
    }
   ],
   "source": [
    "print(np.shape(X_train_car))\n",
    "print(np.shape(X_train_noise))"
   ]
  },
  {
   "cell_type": "code",
   "execution_count": 160,
   "metadata": {},
   "outputs": [],
   "source": [
    "mm_scaler = MinMaxScaler()\n",
    "X_train = mm_scaler.fit_transform(X_train)"
   ]
  },
  {
   "cell_type": "code",
   "execution_count": 161,
   "metadata": {},
   "outputs": [],
   "source": [
    "# print(np.shape(X_train))"
   ]
  },
  {
   "cell_type": "code",
   "execution_count": 162,
   "metadata": {},
   "outputs": [],
   "source": [
    "index = np.random.permutation(len(X_train))\n",
    "X_train_shuffled = X_train[index]\n",
    "Y_train_shuffled = Y_train[index]"
   ]
  },
  {
   "cell_type": "code",
   "execution_count": 163,
   "metadata": {},
   "outputs": [],
   "source": [
    "X_valid_car = np.vstack(valid_car_hist[1].values.tolist())\n",
    "Y_valid_car = valid_car_hist[0]\n",
    "X_valid_noise = np.vstack(valid_noise_hist[1].values.tolist())\n",
    "Y_valid_noise = valid_noise_hist[0]"
   ]
  },
  {
   "cell_type": "code",
   "execution_count": 164,
   "metadata": {},
   "outputs": [],
   "source": [
    "X_valid = np.concatenate((X_valid_car, X_valid_noise))\n",
    "Y_valid = np.concatenate((Y_valid_car, Y_valid_noise))\n",
    "X_valid = mm_scaler.transform(X_valid)\n",
    "index = np.random.permutation(len(X_valid))\n",
    "X_valid_shuffled = X_valid[index]\n",
    "Y_valid_shuffled = Y_valid[index]"
   ]
  },
  {
   "cell_type": "code",
   "execution_count": 165,
   "metadata": {},
   "outputs": [
    {
     "output_type": "stream",
     "name": "stdout",
     "text": [
      "PCA: \nTime: 96.0086\n"
     ]
    }
   ],
   "source": [
    "start_time = time.time()\n",
    "pca_iter = PCA(n_components = n_component)\n",
    "X_train_pca = pca_iter.fit_transform(X_train_shuffled)\n",
    "print(\"PCA: \".format(pca_iter))\n",
    "# print(\"Last Component Variance: {:.4f}\".format(pca_iter.explained_variance_[-1]))\n",
    "print(\"Time: {:.4f}\".format(time.time() - start_time))"
   ]
  },
  {
   "source": [
    "Data Entry for ORB\n",
    "* PCA_500: Time = 92.37 seconds\n",
    "* PCA_5000: Time = 597.48 seconds\n"
   ],
   "cell_type": "markdown",
   "metadata": {}
  },
  {
   "cell_type": "code",
   "execution_count": 166,
   "metadata": {},
   "outputs": [
    {
     "output_type": "stream",
     "name": "stdout",
     "text": [
      "Last Component Variance: 0.0426\n"
     ]
    }
   ],
   "source": [
    "print(\"Last Component Variance: {:.4f}\".format(pca_iter.explained_variance_[-1]))\n"
   ]
  },
  {
   "cell_type": "code",
   "execution_count": 167,
   "metadata": {},
   "outputs": [],
   "source": [
    "X_valid_pca = pca_iter.transform(X_valid_shuffled)"
   ]
  },
  {
   "cell_type": "code",
   "execution_count": 168,
   "metadata": {},
   "outputs": [
    {
     "output_type": "stream",
     "name": "stdout",
     "text": [
      "PCA_FREAK_Scaled_C1000.sav\n"
     ]
    }
   ],
   "source": [
    "pca_name = \"_\".join((\"PCA_FREAK_Scaled\",\"C\"+str(n_component)+\".sav\"))\n",
    "print(pca_name)\n",
    "pickle.dump(pca_iter, open(pca_name, 'wb'))"
   ]
  },
  {
   "cell_type": "code",
   "execution_count": 169,
   "metadata": {},
   "outputs": [
    {
     "output_type": "stream",
     "name": "stdout",
     "text": [
      "Time 267.26\n"
     ]
    }
   ],
   "source": [
    "start_time = time.time()\n",
    "model_svm = SVC()\n",
    "model_svm.fit(X_train_pca, Y_train)\n",
    "print(\"Time {:.2f}\".format(time.time() - start_time))"
   ]
  },
  {
   "source": [
    "* SVM_PCA_500: 186 seconds\n",
    "* SVM_PCA_5000: 2224.40 seconds"
   ],
   "cell_type": "markdown",
   "metadata": {}
  },
  {
   "cell_type": "code",
   "execution_count": 170,
   "metadata": {},
   "outputs": [],
   "source": [
    "X_valid_pca = pca_iter.transform(X_valid)\n",
    "Y_val_predict = model_svm.predict(X = X_valid_pca)"
   ]
  },
  {
   "cell_type": "code",
   "execution_count": 177,
   "metadata": {},
   "outputs": [
    {
     "output_type": "stream",
     "name": "stdout",
     "text": [
      "For Components:  1000\nLast Component Variance with components: 1000 = \t\t0.0426\n\nF1_score for Validation with components: 1000 = \t\t0.4149\nAccuracy for Validation with components: 1000 = \t\t0.4922\nPrecision for Validation with components: 1000 = \t\t0.4785\nRecall for Validation with components: 1000 = \t\t\t0.3663\nAUC Score for Validation with components: 1000 = \t\t0.4901\n"
     ]
    }
   ],
   "source": [
    "print(\"For Components: \", n_component)\n",
    "print(\"Last Component Variance with components: {} = \\t\\t{:.4f}\".format(n_component, pca_iter.explained_variance_[-1]))\n",
    "print(\"\")\n",
    "print(\"F1_score for Validation with components: {} = \\t\\t{:.4f}\".format(n_component, f1_score(y_true = Y_valid, y_pred = Y_val_predict)) )\n",
    "print(\"Accuracy for Validation with components: {} = \\t\\t{:.4f}\".format(n_component, accuracy_score(y_true = Y_valid, y_pred = Y_val_predict)) )\n",
    "print(\"Precision for Validation with components: {} = \\t\\t{:.4f}\".format(n_component, precision_score(y_true = Y_valid, y_pred = Y_val_predict)) )\n",
    "print(\"Recall for Validation with components: {} = \\t\\t\\t{:.4f}\".format(n_component, recall_score(y_true = Y_valid, y_pred = Y_val_predict)) )\n",
    "print(\"AUC Score for Validation with components: {} = \\t\\t{:.4f}\".format(n_component, roc_auc_score(y_true = Y_valid, y_score = Y_val_predict)) )"
   ]
  },
  {
   "source": [
    "* SVM_PCA_500_MM: F1 Score = 0.4725\n",
    "* SVM_PCA_500_MM: F1 Score = 0.5114"
   ],
   "cell_type": "markdown",
   "metadata": {}
  },
  {
   "cell_type": "code",
   "execution_count": 172,
   "metadata": {},
   "outputs": [
    {
     "output_type": "stream",
     "name": "stdout",
     "text": [
      "PCA_SVM_FREAK_Scaled_C1000.sav\n"
     ]
    }
   ],
   "source": [
    "svc_name = \"_\".join((\"PCA_SVM_FREAK_Scaled\",\"C\"+str(n_component)+\".sav\"))\n",
    "print(svc_name)\n",
    "pickle.dump(model_svm, open(svc_name, 'wb'))"
   ]
  },
  {
   "cell_type": "code",
   "execution_count": 173,
   "metadata": {},
   "outputs": [
    {
     "output_type": "stream",
     "name": "stdout",
     "text": [
      "Time: 426.06\n"
     ]
    }
   ],
   "source": [
    "winsound.Beep(freq, duration)\n",
    "print(\"Time: {:.2f}\".format(time.time() - start_program))"
   ]
  },
  {
   "cell_type": "code",
   "execution_count": null,
   "metadata": {},
   "outputs": [],
   "source": []
  }
 ]
}
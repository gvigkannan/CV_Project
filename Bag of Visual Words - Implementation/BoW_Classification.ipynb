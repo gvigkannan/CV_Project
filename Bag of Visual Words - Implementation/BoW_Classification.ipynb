{
 "metadata": {
  "language_info": {
   "codemirror_mode": {
    "name": "ipython",
    "version": 3
   },
   "file_extension": ".py",
   "mimetype": "text/x-python",
   "name": "python",
   "nbconvert_exporter": "python",
   "pygments_lexer": "ipython3",
   "version": "3.7.7-final"
  },
  "orig_nbformat": 2,
  "kernelspec": {
   "name": "python3",
   "display_name": "Python 3"
  }
 },
 "nbformat": 4,
 "nbformat_minor": 2,
 "cells": [
  {
   "cell_type": "code",
   "execution_count": 2,
   "metadata": {},
   "outputs": [],
   "source": [
    "#Using the Histogram to perform Classification!"
   ]
  },
  {
   "cell_type": "code",
   "execution_count": 3,
   "metadata": {},
   "outputs": [],
   "source": [
    "import cv2 as cv\n",
    "import os\n",
    "import pandas as pd\n",
    "import numpy as np\n",
    "import json\n",
    "import pickle\n",
    "import time\n",
    "import winsound"
   ]
  },
  {
   "cell_type": "code",
   "execution_count": 4,
   "metadata": {},
   "outputs": [],
   "source": [
    "from sklearn.svm import SVC\n",
    "from sklearn.naive_bayes import MultinomialNB\n",
    "from sklearn.ensemble import RandomForestClassifier as RFC\n",
    "from sklearn.preprocessing import StandardScaler, MinMaxScaler\n",
    "from sklearn.model_selection import train_test_split\n",
    "from sklearn.metrics import accuracy_score, confusion_matrix, f1_score, precision_score, recall_score, roc_auc_score\n",
    "from sklearn.utils import shuffle\n"
   ]
  },
  {
   "cell_type": "code",
   "execution_count": 5,
   "metadata": {},
   "outputs": [],
   "source": [
    "start_program = time.time()\n",
    "duration = 800  # milliseconds\n",
    "freq = 300 # Hz\n",
    "winsound.Beep(freq, duration)"
   ]
  },
  {
   "cell_type": "code",
   "execution_count": null,
   "metadata": {},
   "outputs": [],
   "source": []
  },
  {
   "cell_type": "code",
   "execution_count": 6,
   "metadata": {},
   "outputs": [
    {
     "output_type": "execute_result",
     "data": {
      "text/plain": [
       "'Car_Hist_MinMax_C1500.csv'"
      ]
     },
     "metadata": {},
     "execution_count": 6
    }
   ],
   "source": [
    "n_cluster = 1500\n",
    "car_name = \"_\".join((\"Car_Hist_MinMax\", \"C\"+str(n_cluster)+\".csv\"))\n",
    "noise_name = \"_\".join((\"Noise_Hist_MinMax\",\"C\"+str(n_cluster)+\".csv\"))\n",
    "car_name"
   ]
  },
  {
   "cell_type": "code",
   "execution_count": 7,
   "metadata": {},
   "outputs": [],
   "source": [
    "car_df = pd.read_csv(car_name, sep = ',', index_col = False)\n",
    "noise_df = pd.read_csv(noise_name, sep = ',', index_col = False)"
   ]
  },
  {
   "cell_type": "code",
   "execution_count": 8,
   "metadata": {},
   "outputs": [],
   "source": [
    "#Scaling the dataset - Already Scaled!\n",
    "# car_df = car_df/500\n",
    "# noise_df = noise_df/500"
   ]
  },
  {
   "cell_type": "code",
   "execution_count": 9,
   "metadata": {},
   "outputs": [],
   "source": [
    "car_df['y'] = 1\n",
    "noise_df['y'] = 0"
   ]
  },
  {
   "cell_type": "code",
   "execution_count": 10,
   "metadata": {},
   "outputs": [
    {
     "output_type": "execute_result",
     "data": {
      "text/plain": [
       "     0     1         2         3    4    5    6     7    8         9  ...  \\\n",
       "0  0.0  0.00  0.000000  0.166667  0.0  0.0  0.0  0.00  0.0  0.000000  ...   \n",
       "1  0.0  0.50  0.000000  0.000000  0.0  0.0  0.0  0.00  0.0  0.000000  ...   \n",
       "2  0.0  0.25  0.000000  0.000000  0.2  0.0  0.0  0.25  0.2  0.142857  ...   \n",
       "3  0.0  0.25  0.000000  0.000000  0.4  0.0  0.0  0.00  0.0  0.142857  ...   \n",
       "4  0.0  0.00  0.166667  0.000000  0.0  0.0  0.0  0.00  0.6  0.285714  ...   \n",
       "\n",
       "   1491      1492  1493  1494      1495  1496      1497  1498      1499  y  \n",
       "0   0.4  0.142857   0.0   0.0  0.000000   0.0  0.000000   0.0  0.000000  1  \n",
       "1   0.0  0.000000   0.0   0.2  0.000000   0.2  0.000000   0.0  0.166667  1  \n",
       "2   0.0  0.000000   0.0   0.2  0.333333   0.2  0.000000   0.0  0.000000  1  \n",
       "3   0.0  0.000000   0.0   0.0  0.000000   0.2  0.714286   0.0  0.000000  1  \n",
       "4   0.0  0.000000   0.2   0.0  0.166667   0.2  0.142857   0.0  0.000000  1  \n",
       "\n",
       "[5 rows x 1501 columns]"
      ],
      "text/html": "<div>\n<style scoped>\n    .dataframe tbody tr th:only-of-type {\n        vertical-align: middle;\n    }\n\n    .dataframe tbody tr th {\n        vertical-align: top;\n    }\n\n    .dataframe thead th {\n        text-align: right;\n    }\n</style>\n<table border=\"1\" class=\"dataframe\">\n  <thead>\n    <tr style=\"text-align: right;\">\n      <th></th>\n      <th>0</th>\n      <th>1</th>\n      <th>2</th>\n      <th>3</th>\n      <th>4</th>\n      <th>5</th>\n      <th>6</th>\n      <th>7</th>\n      <th>8</th>\n      <th>9</th>\n      <th>...</th>\n      <th>1491</th>\n      <th>1492</th>\n      <th>1493</th>\n      <th>1494</th>\n      <th>1495</th>\n      <th>1496</th>\n      <th>1497</th>\n      <th>1498</th>\n      <th>1499</th>\n      <th>y</th>\n    </tr>\n  </thead>\n  <tbody>\n    <tr>\n      <th>0</th>\n      <td>0.0</td>\n      <td>0.00</td>\n      <td>0.000000</td>\n      <td>0.166667</td>\n      <td>0.0</td>\n      <td>0.0</td>\n      <td>0.0</td>\n      <td>0.00</td>\n      <td>0.0</td>\n      <td>0.000000</td>\n      <td>...</td>\n      <td>0.4</td>\n      <td>0.142857</td>\n      <td>0.0</td>\n      <td>0.0</td>\n      <td>0.000000</td>\n      <td>0.0</td>\n      <td>0.000000</td>\n      <td>0.0</td>\n      <td>0.000000</td>\n      <td>1</td>\n    </tr>\n    <tr>\n      <th>1</th>\n      <td>0.0</td>\n      <td>0.50</td>\n      <td>0.000000</td>\n      <td>0.000000</td>\n      <td>0.0</td>\n      <td>0.0</td>\n      <td>0.0</td>\n      <td>0.00</td>\n      <td>0.0</td>\n      <td>0.000000</td>\n      <td>...</td>\n      <td>0.0</td>\n      <td>0.000000</td>\n      <td>0.0</td>\n      <td>0.2</td>\n      <td>0.000000</td>\n      <td>0.2</td>\n      <td>0.000000</td>\n      <td>0.0</td>\n      <td>0.166667</td>\n      <td>1</td>\n    </tr>\n    <tr>\n      <th>2</th>\n      <td>0.0</td>\n      <td>0.25</td>\n      <td>0.000000</td>\n      <td>0.000000</td>\n      <td>0.2</td>\n      <td>0.0</td>\n      <td>0.0</td>\n      <td>0.25</td>\n      <td>0.2</td>\n      <td>0.142857</td>\n      <td>...</td>\n      <td>0.0</td>\n      <td>0.000000</td>\n      <td>0.0</td>\n      <td>0.2</td>\n      <td>0.333333</td>\n      <td>0.2</td>\n      <td>0.000000</td>\n      <td>0.0</td>\n      <td>0.000000</td>\n      <td>1</td>\n    </tr>\n    <tr>\n      <th>3</th>\n      <td>0.0</td>\n      <td>0.25</td>\n      <td>0.000000</td>\n      <td>0.000000</td>\n      <td>0.4</td>\n      <td>0.0</td>\n      <td>0.0</td>\n      <td>0.00</td>\n      <td>0.0</td>\n      <td>0.142857</td>\n      <td>...</td>\n      <td>0.0</td>\n      <td>0.000000</td>\n      <td>0.0</td>\n      <td>0.0</td>\n      <td>0.000000</td>\n      <td>0.2</td>\n      <td>0.714286</td>\n      <td>0.0</td>\n      <td>0.000000</td>\n      <td>1</td>\n    </tr>\n    <tr>\n      <th>4</th>\n      <td>0.0</td>\n      <td>0.00</td>\n      <td>0.166667</td>\n      <td>0.000000</td>\n      <td>0.0</td>\n      <td>0.0</td>\n      <td>0.0</td>\n      <td>0.00</td>\n      <td>0.6</td>\n      <td>0.285714</td>\n      <td>...</td>\n      <td>0.0</td>\n      <td>0.000000</td>\n      <td>0.2</td>\n      <td>0.0</td>\n      <td>0.166667</td>\n      <td>0.2</td>\n      <td>0.142857</td>\n      <td>0.0</td>\n      <td>0.000000</td>\n      <td>1</td>\n    </tr>\n  </tbody>\n</table>\n<p>5 rows × 1501 columns</p>\n</div>"
     },
     "metadata": {},
     "execution_count": 10
    }
   ],
   "source": [
    "df = pd.concat([car_df, noise_df])\n",
    "df.head()"
   ]
  },
  {
   "cell_type": "code",
   "execution_count": 11,
   "metadata": {},
   "outputs": [
    {
     "output_type": "execute_result",
     "data": {
      "text/plain": [
       "     0     1         2         3    4    5    6     7    8         9  ...  \\\n",
       "0  0.0  0.00  0.000000  0.166667  0.0  0.0  0.0  0.00  0.0  0.000000  ...   \n",
       "1  0.0  0.50  0.000000  0.000000  0.0  0.0  0.0  0.00  0.0  0.000000  ...   \n",
       "2  0.0  0.25  0.000000  0.000000  0.2  0.0  0.0  0.25  0.2  0.142857  ...   \n",
       "3  0.0  0.25  0.000000  0.000000  0.4  0.0  0.0  0.00  0.0  0.142857  ...   \n",
       "4  0.0  0.00  0.166667  0.000000  0.0  0.0  0.0  0.00  0.6  0.285714  ...   \n",
       "\n",
       "   1491      1492  1493  1494      1495  1496      1497  1498      1499  y  \n",
       "0   0.4  0.142857   0.0   0.0  0.000000   0.0  0.000000   0.0  0.000000  1  \n",
       "1   0.0  0.000000   0.0   0.2  0.000000   0.2  0.000000   0.0  0.166667  1  \n",
       "2   0.0  0.000000   0.0   0.2  0.333333   0.2  0.000000   0.0  0.000000  1  \n",
       "3   0.0  0.000000   0.0   0.0  0.000000   0.2  0.714286   0.0  0.000000  1  \n",
       "4   0.0  0.000000   0.2   0.0  0.166667   0.2  0.142857   0.0  0.000000  1  \n",
       "\n",
       "[5 rows x 1501 columns]"
      ],
      "text/html": "<div>\n<style scoped>\n    .dataframe tbody tr th:only-of-type {\n        vertical-align: middle;\n    }\n\n    .dataframe tbody tr th {\n        vertical-align: top;\n    }\n\n    .dataframe thead th {\n        text-align: right;\n    }\n</style>\n<table border=\"1\" class=\"dataframe\">\n  <thead>\n    <tr style=\"text-align: right;\">\n      <th></th>\n      <th>0</th>\n      <th>1</th>\n      <th>2</th>\n      <th>3</th>\n      <th>4</th>\n      <th>5</th>\n      <th>6</th>\n      <th>7</th>\n      <th>8</th>\n      <th>9</th>\n      <th>...</th>\n      <th>1491</th>\n      <th>1492</th>\n      <th>1493</th>\n      <th>1494</th>\n      <th>1495</th>\n      <th>1496</th>\n      <th>1497</th>\n      <th>1498</th>\n      <th>1499</th>\n      <th>y</th>\n    </tr>\n  </thead>\n  <tbody>\n    <tr>\n      <th>0</th>\n      <td>0.0</td>\n      <td>0.00</td>\n      <td>0.000000</td>\n      <td>0.166667</td>\n      <td>0.0</td>\n      <td>0.0</td>\n      <td>0.0</td>\n      <td>0.00</td>\n      <td>0.0</td>\n      <td>0.000000</td>\n      <td>...</td>\n      <td>0.4</td>\n      <td>0.142857</td>\n      <td>0.0</td>\n      <td>0.0</td>\n      <td>0.000000</td>\n      <td>0.0</td>\n      <td>0.000000</td>\n      <td>0.0</td>\n      <td>0.000000</td>\n      <td>1</td>\n    </tr>\n    <tr>\n      <th>1</th>\n      <td>0.0</td>\n      <td>0.50</td>\n      <td>0.000000</td>\n      <td>0.000000</td>\n      <td>0.0</td>\n      <td>0.0</td>\n      <td>0.0</td>\n      <td>0.00</td>\n      <td>0.0</td>\n      <td>0.000000</td>\n      <td>...</td>\n      <td>0.0</td>\n      <td>0.000000</td>\n      <td>0.0</td>\n      <td>0.2</td>\n      <td>0.000000</td>\n      <td>0.2</td>\n      <td>0.000000</td>\n      <td>0.0</td>\n      <td>0.166667</td>\n      <td>1</td>\n    </tr>\n    <tr>\n      <th>2</th>\n      <td>0.0</td>\n      <td>0.25</td>\n      <td>0.000000</td>\n      <td>0.000000</td>\n      <td>0.2</td>\n      <td>0.0</td>\n      <td>0.0</td>\n      <td>0.25</td>\n      <td>0.2</td>\n      <td>0.142857</td>\n      <td>...</td>\n      <td>0.0</td>\n      <td>0.000000</td>\n      <td>0.0</td>\n      <td>0.2</td>\n      <td>0.333333</td>\n      <td>0.2</td>\n      <td>0.000000</td>\n      <td>0.0</td>\n      <td>0.000000</td>\n      <td>1</td>\n    </tr>\n    <tr>\n      <th>3</th>\n      <td>0.0</td>\n      <td>0.25</td>\n      <td>0.000000</td>\n      <td>0.000000</td>\n      <td>0.4</td>\n      <td>0.0</td>\n      <td>0.0</td>\n      <td>0.00</td>\n      <td>0.0</td>\n      <td>0.142857</td>\n      <td>...</td>\n      <td>0.0</td>\n      <td>0.000000</td>\n      <td>0.0</td>\n      <td>0.0</td>\n      <td>0.000000</td>\n      <td>0.2</td>\n      <td>0.714286</td>\n      <td>0.0</td>\n      <td>0.000000</td>\n      <td>1</td>\n    </tr>\n    <tr>\n      <th>4</th>\n      <td>0.0</td>\n      <td>0.00</td>\n      <td>0.166667</td>\n      <td>0.000000</td>\n      <td>0.0</td>\n      <td>0.0</td>\n      <td>0.0</td>\n      <td>0.00</td>\n      <td>0.6</td>\n      <td>0.285714</td>\n      <td>...</td>\n      <td>0.0</td>\n      <td>0.000000</td>\n      <td>0.2</td>\n      <td>0.0</td>\n      <td>0.166667</td>\n      <td>0.2</td>\n      <td>0.142857</td>\n      <td>0.0</td>\n      <td>0.000000</td>\n      <td>1</td>\n    </tr>\n  </tbody>\n</table>\n<p>5 rows × 1501 columns</p>\n</div>"
     },
     "metadata": {},
     "execution_count": 11
    }
   ],
   "source": [
    "# Didn't work!\n",
    "# l = len(df)\n",
    "# index = np.random.permutation(l)\n",
    "#df = df.iloc[np.random.permutation(len(df))] \n",
    "df.head()"
   ]
  },
  {
   "cell_type": "code",
   "execution_count": 12,
   "metadata": {},
   "outputs": [
    {
     "output_type": "display_data",
     "data": {
      "text/plain": "     0     1         2         3    4    5    6     7    8         9  ...  \\\n0  0.0  0.00  0.000000  0.166667  0.0  0.0  0.0  0.00  0.0  0.000000  ...   \n1  0.0  0.50  0.000000  0.000000  0.0  0.0  0.0  0.00  0.0  0.000000  ...   \n2  0.0  0.25  0.000000  0.000000  0.2  0.0  0.0  0.25  0.2  0.142857  ...   \n3  0.0  0.25  0.000000  0.000000  0.4  0.0  0.0  0.00  0.0  0.142857  ...   \n4  0.0  0.00  0.166667  0.000000  0.0  0.0  0.0  0.00  0.6  0.285714  ...   \n\n   1490  1491      1492  1493  1494      1495  1496      1497  1498      1499  \n0   0.0   0.4  0.142857   0.0   0.0  0.000000   0.0  0.000000   0.0  0.000000  \n1   0.0   0.0  0.000000   0.0   0.2  0.000000   0.2  0.000000   0.0  0.166667  \n2   0.0   0.0  0.000000   0.0   0.2  0.333333   0.2  0.000000   0.0  0.000000  \n3   0.0   0.0  0.000000   0.0   0.0  0.000000   0.2  0.714286   0.0  0.000000  \n4   0.0   0.0  0.000000   0.2   0.0  0.166667   0.2  0.142857   0.0  0.000000  \n\n[5 rows x 1500 columns]",
      "text/html": "<div>\n<style scoped>\n    .dataframe tbody tr th:only-of-type {\n        vertical-align: middle;\n    }\n\n    .dataframe tbody tr th {\n        vertical-align: top;\n    }\n\n    .dataframe thead th {\n        text-align: right;\n    }\n</style>\n<table border=\"1\" class=\"dataframe\">\n  <thead>\n    <tr style=\"text-align: right;\">\n      <th></th>\n      <th>0</th>\n      <th>1</th>\n      <th>2</th>\n      <th>3</th>\n      <th>4</th>\n      <th>5</th>\n      <th>6</th>\n      <th>7</th>\n      <th>8</th>\n      <th>9</th>\n      <th>...</th>\n      <th>1490</th>\n      <th>1491</th>\n      <th>1492</th>\n      <th>1493</th>\n      <th>1494</th>\n      <th>1495</th>\n      <th>1496</th>\n      <th>1497</th>\n      <th>1498</th>\n      <th>1499</th>\n    </tr>\n  </thead>\n  <tbody>\n    <tr>\n      <th>0</th>\n      <td>0.0</td>\n      <td>0.00</td>\n      <td>0.000000</td>\n      <td>0.166667</td>\n      <td>0.0</td>\n      <td>0.0</td>\n      <td>0.0</td>\n      <td>0.00</td>\n      <td>0.0</td>\n      <td>0.000000</td>\n      <td>...</td>\n      <td>0.0</td>\n      <td>0.4</td>\n      <td>0.142857</td>\n      <td>0.0</td>\n      <td>0.0</td>\n      <td>0.000000</td>\n      <td>0.0</td>\n      <td>0.000000</td>\n      <td>0.0</td>\n      <td>0.000000</td>\n    </tr>\n    <tr>\n      <th>1</th>\n      <td>0.0</td>\n      <td>0.50</td>\n      <td>0.000000</td>\n      <td>0.000000</td>\n      <td>0.0</td>\n      <td>0.0</td>\n      <td>0.0</td>\n      <td>0.00</td>\n      <td>0.0</td>\n      <td>0.000000</td>\n      <td>...</td>\n      <td>0.0</td>\n      <td>0.0</td>\n      <td>0.000000</td>\n      <td>0.0</td>\n      <td>0.2</td>\n      <td>0.000000</td>\n      <td>0.2</td>\n      <td>0.000000</td>\n      <td>0.0</td>\n      <td>0.166667</td>\n    </tr>\n    <tr>\n      <th>2</th>\n      <td>0.0</td>\n      <td>0.25</td>\n      <td>0.000000</td>\n      <td>0.000000</td>\n      <td>0.2</td>\n      <td>0.0</td>\n      <td>0.0</td>\n      <td>0.25</td>\n      <td>0.2</td>\n      <td>0.142857</td>\n      <td>...</td>\n      <td>0.0</td>\n      <td>0.0</td>\n      <td>0.000000</td>\n      <td>0.0</td>\n      <td>0.2</td>\n      <td>0.333333</td>\n      <td>0.2</td>\n      <td>0.000000</td>\n      <td>0.0</td>\n      <td>0.000000</td>\n    </tr>\n    <tr>\n      <th>3</th>\n      <td>0.0</td>\n      <td>0.25</td>\n      <td>0.000000</td>\n      <td>0.000000</td>\n      <td>0.4</td>\n      <td>0.0</td>\n      <td>0.0</td>\n      <td>0.00</td>\n      <td>0.0</td>\n      <td>0.142857</td>\n      <td>...</td>\n      <td>0.0</td>\n      <td>0.0</td>\n      <td>0.000000</td>\n      <td>0.0</td>\n      <td>0.0</td>\n      <td>0.000000</td>\n      <td>0.2</td>\n      <td>0.714286</td>\n      <td>0.0</td>\n      <td>0.000000</td>\n    </tr>\n    <tr>\n      <th>4</th>\n      <td>0.0</td>\n      <td>0.00</td>\n      <td>0.166667</td>\n      <td>0.000000</td>\n      <td>0.0</td>\n      <td>0.0</td>\n      <td>0.0</td>\n      <td>0.00</td>\n      <td>0.6</td>\n      <td>0.285714</td>\n      <td>...</td>\n      <td>0.0</td>\n      <td>0.0</td>\n      <td>0.000000</td>\n      <td>0.2</td>\n      <td>0.0</td>\n      <td>0.166667</td>\n      <td>0.2</td>\n      <td>0.142857</td>\n      <td>0.0</td>\n      <td>0.000000</td>\n    </tr>\n  </tbody>\n</table>\n<p>5 rows × 1500 columns</p>\n</div>"
     },
     "metadata": {}
    },
    {
     "output_type": "display_data",
     "data": {
      "text/plain": "0    1\n1    1\n2    1\n3    1\n4    1\nName: y, dtype: int64"
     },
     "metadata": {}
    }
   ],
   "source": [
    "#df = shuffle(df)\n",
    "X = df.drop(columns = ['y'])\n",
    "y = df['y']\n",
    "\n",
    "#Do below when you have Columns 500 and 501\n",
    "# X = df.drop(columns = ['y', '500','501'])\n",
    "# y = df['y']\n",
    "display(X.head())\n",
    "display(y.head())"
   ]
  },
  {
   "cell_type": "code",
   "execution_count": 13,
   "metadata": {},
   "outputs": [],
   "source": [
    "X_train, X_test, Y_train, Y_test = train_test_split(X.values, y.values, test_size = 0.05, shuffle = True)"
   ]
  },
  {
   "cell_type": "code",
   "execution_count": 14,
   "metadata": {},
   "outputs": [
    {
     "output_type": "execute_result",
     "data": {
      "text/plain": [
       "array([1, 0, 0, 0, 1], dtype=int64)"
      ]
     },
     "metadata": {},
     "execution_count": 14
    }
   ],
   "source": [
    "Y_test[:5]"
   ]
  },
  {
   "cell_type": "code",
   "execution_count": 15,
   "metadata": {},
   "outputs": [
    {
     "output_type": "execute_result",
     "data": {
      "text/plain": [
       "12655"
      ]
     },
     "metadata": {},
     "execution_count": 15
    }
   ],
   "source": [
    "len(X_train)"
   ]
  },
  {
   "cell_type": "code",
   "execution_count": 16,
   "metadata": {},
   "outputs": [],
   "source": [
    "model_SVC = SVC()"
   ]
  },
  {
   "cell_type": "code",
   "execution_count": 17,
   "metadata": {},
   "outputs": [
    {
     "output_type": "stream",
     "name": "stdout",
     "text": [
      "443.38231086730957\n"
     ]
    }
   ],
   "source": [
    "start_time = time.time()\n",
    "model_SVC.fit(X = X_train, y = Y_train)\n",
    "print(time.time() - start_time)"
   ]
  },
  {
   "cell_type": "code",
   "execution_count": 18,
   "metadata": {},
   "outputs": [],
   "source": [
    "Y_predict = model_SVC.predict(X_test)"
   ]
  },
  {
   "cell_type": "code",
   "execution_count": 19,
   "metadata": {},
   "outputs": [
    {
     "output_type": "execute_result",
     "data": {
      "text/plain": [
       "0.8325652841781875"
      ]
     },
     "metadata": {},
     "execution_count": 19
    }
   ],
   "source": [
    "f1_score(y_true = Y_test, y_pred = Y_predict)\n",
    "#Previous Iteration: 2.1% - 20%\n",
    "#After all corrections! v1: 99% -> v3: 0.997"
   ]
  },
  {
   "cell_type": "code",
   "execution_count": 20,
   "metadata": {},
   "outputs": [
    {
     "output_type": "execute_result",
     "data": {
      "text/plain": [
       "0.8365817091454273"
      ]
     },
     "metadata": {},
     "execution_count": 20
    }
   ],
   "source": [
    "accuracy_score(y_true = Y_test, y_pred = Y_predict)\n",
    "#Previous Iteration: 2.1% - 20%\n",
    "#After all corrections! v1: 0.994 -> v3: 0.997\n",
    "# For C1000: SVC - train accuracy: 0.998\n",
    "# For C800: SVC - train accuracy: 0.998\n",
    "# For C500: SVC - train accuracy: 0.998\n",
    "# For C1000: SVC - train accuracy: 0.995"
   ]
  },
  {
   "cell_type": "code",
   "execution_count": 21,
   "metadata": {},
   "outputs": [
    {
     "output_type": "stream",
     "name": "stdout",
     "text": [
      "SVC_VoW_MinMax_C1500.sav\n"
     ]
    }
   ],
   "source": [
    "#Dumping the trained model!\n",
    "SVC_name = \"_\".join((\"SVC\",\"VoW_MinMax\",\"C\"+str(n_cluster)+\".sav\"))\n",
    "print(SVC_name)\n",
    "pickle.dump(model_SVC, open(SVC_name, 'wb'))"
   ]
  },
  {
   "cell_type": "code",
   "execution_count": 22,
   "metadata": {},
   "outputs": [
    {
     "output_type": "stream",
     "name": "stdout",
     "text": [
      "Program Time: 467.3774528503418\n"
     ]
    }
   ],
   "source": [
    "print(\"Program Time: {}\".format(time.time() - start_program))\n",
    "winsound.Beep(freq, duration)\n",
    "#C1000: 55 sec\n",
    "#C800:  30 sec\n",
    "#C500: 30 sec"
   ]
  },
  {
   "cell_type": "code",
   "execution_count": null,
   "metadata": {},
   "outputs": [],
   "source": []
  },
  {
   "cell_type": "code",
   "execution_count": null,
   "metadata": {},
   "outputs": [],
   "source": [
    "Stop!"
   ]
  },
  {
   "cell_type": "code",
   "execution_count": 17,
   "metadata": {},
   "outputs": [],
   "source": [
    "#Testing the prediction accuracy with Validation Data!\n",
    "#Let's import all the feature descriptors!\n",
    "path_dir = os.getcwd()\n",
    "valid_dir = \"\\\\\".join((path_dir, \"ORB_Dataset\", \"val\"))\n",
    "valid_files = os.listdir(valid_dir)\n",
    "valid_car_dir = \"\\\\\".join((valid_dir, valid_files[0]))\n",
    "valid_noise_dir = \"\\\\\".join((valid_dir, valid_files[1]))\n"
   ]
  },
  {
   "cell_type": "code",
   "execution_count": 18,
   "metadata": {},
   "outputs": [
    {
     "output_type": "execute_result",
     "data": {
      "text/plain": [
       "'i:\\\\WPI\\\\Fall 2020\\\\Computer Vision - RBE 549\\\\CV Project\\\\BoW_Visual\\\\ORB_Dataset\\\\val\\\\val_no_car_ORB.json'"
      ]
     },
     "metadata": {},
     "execution_count": 18
    }
   ],
   "source": [
    "valid_noise_dir"
   ]
  },
  {
   "cell_type": "code",
   "execution_count": 19,
   "metadata": {},
   "outputs": [
    {
     "output_type": "stream",
     "name": "stdout",
     "text": [
      "2.4884555339813232\n"
     ]
    }
   ],
   "source": [
    "start_time = time.time()\n",
    "valid_car_descriptors = []\n",
    "with open(valid_car_dir, 'r') as fil_name:\n",
    "    valid_car_descriptors = json.load(fil_name)\n",
    "print(time.time() - start_time)\n",
    "\n",
    "start_time = time.time()\n",
    "valid_noise_descriptors = []\n",
    "with open(valid_noise_dir, 'r') as fil_name:\n",
    "    valid_noise_descriptors = json.load(fil_name)\n",
    "print(time.time() - start_time)"
   ]
  },
  {
   "cell_type": "code",
   "execution_count": 22,
   "metadata": {},
   "outputs": [],
   "source": [
    "def cluster_labels(pickle_file, model):\n",
    "    start_time = time.time()\n",
    "    #pickle_file = car_descriptors\n",
    "    \n",
    "    img_cluster = []\n",
    "    for img_desc in pickle_file:\n",
    "        cluster_desc = []\n",
    "        if len(img_desc)> 0:\n",
    "            #for desc in img_desc:\n",
    "            cluster_desc = model.predict(img_desc)\n",
    "            img_cluster.append(cluster_desc)\n",
    "    print(time.time() - start_time)\n",
    "    return(img_cluster)"
   ]
  },
  {
   "cell_type": "code",
   "execution_count": 21,
   "metadata": {},
   "outputs": [],
   "source": [
    "#Load the model\n",
    "#pickle.loads(kmeans_batch, open(\"KMeans_All_Trial_1.sav\", 'wb'))\n",
    "\n",
    "with open(\"KMeans_c_800_b_32_rs_5_v1.sav\", 'rb') as f_name:\n",
    "    kmeans_batch = pickle.load(f_name)"
   ]
  },
  {
   "cell_type": "code",
   "execution_count": 25,
   "metadata": {},
   "outputs": [
    {
     "output_type": "stream",
     "name": "stdout",
     "text": [
      "14.213318824768066\n",
      "14.557066440582275\n"
     ]
    }
   ],
   "source": [
    "valid_car_clusters = np.array(cluster_labels(pickle_file = valid_car_descriptors, model = kmeans_batch))\n",
    "valid_noise_clusters = np.array(cluster_labels(pickle_file = valid_noise_descriptors, model = kmeans_batch))"
   ]
  },
  {
   "cell_type": "code",
   "execution_count": 26,
   "metadata": {},
   "outputs": [
    {
     "output_type": "display_data",
     "data": {
      "text/plain": "(818,)"
     },
     "metadata": {}
    },
    {
     "output_type": "display_data",
     "data": {
      "text/plain": "(847,)"
     },
     "metadata": {}
    }
   ],
   "source": [
    "display(np.shape(valid_car_clusters))\n",
    "display(np.shape(valid_noise_clusters))"
   ]
  },
  {
   "cell_type": "code",
   "execution_count": 27,
   "metadata": {},
   "outputs": [],
   "source": [
    "def cluster_histogram(img_clusters, n_clusters = 500):\n",
    "    start_time = time.time()\n",
    "    hist_arr = []\n",
    "    for img in img_clusters:\n",
    "        hist = np.zeros(n_clusters)\n",
    "        for cluster in img:\n",
    "            hist[cluster] += 1\n",
    "        hist_arr.append(hist)\n",
    "    print(time.time() - start_time)\n",
    "    return(hist_arr)"
   ]
  },
  {
   "cell_type": "code",
   "execution_count": 44,
   "metadata": {},
   "outputs": [
    {
     "output_type": "stream",
     "name": "stdout",
     "text": [
      "0.3223090171813965\n",
      "0.35868382453918457\n"
     ]
    }
   ],
   "source": [
    "n_cluster = 800\n",
    "car_hist = cluster_histogram(img_clusters = valid_car_clusters, n_clusters = n_cluster)\n",
    "noise_hist = cluster_histogram(img_clusters = valid_noise_clusters, n_clusters = n_cluster)"
   ]
  },
  {
   "cell_type": "code",
   "execution_count": 45,
   "metadata": {},
   "outputs": [
    {
     "output_type": "stream",
     "name": "stdout",
     "text": [
      "3.0\n"
     ]
    }
   ],
   "source": [
    "valid_car_hist = pd.DataFrame(car_hist)\n",
    "sscaler = StandardScaler()\n",
    "valid_car_hist_ss = pd.DataFrame(sscaler.fit_transform(valid_car_hist))\n",
    "print(np.max(car_df_v1[0]))\n",
    "mm_scalar = MinMaxScaler()\n",
    "valid_car_hist_mm = pd.DataFrame(mm_scalar.fit_transform(valid_car_hist))"
   ]
  },
  {
   "cell_type": "code",
   "execution_count": 47,
   "metadata": {},
   "outputs": [],
   "source": [
    "valid_noise_hist = pd.DataFrame(noise_hist)\n",
    "sscaler = StandardScaler()\n",
    "valid_noise_hist_ss = pd.DataFrame(sscaler.fit_transform(valid_noise_hist))\n",
    "mm_scalar = MinMaxScaler()\n",
    "valid_noise_hist_mm = pd.DataFrame(mm_scalar.fit_transform(valid_noise_hist))"
   ]
  },
  {
   "cell_type": "code",
   "execution_count": 49,
   "metadata": {},
   "outputs": [],
   "source": [
    "sample_car_mm = valid_car_hist_mm\n",
    "sample_noise_mm = valid_noise_hist_mm\n",
    "\n",
    "sample_car_ss = valid_car_hist_ss\n",
    "sample_noise_ss = valid_noise_hist_ss"
   ]
  },
  {
   "cell_type": "code",
   "execution_count": 50,
   "metadata": {},
   "outputs": [
    {
     "output_type": "stream",
     "name": "stdout",
     "text": [
      "False\nFalse\n"
     ]
    }
   ],
   "source": [
    "# It happens that sometimes there are no freq found for that particular cluster\n",
    "print(np.any(sample_car_mm.isna())) \n",
    "print(np.any(sample_noise_mm.isna()))"
   ]
  },
  {
   "cell_type": "code",
   "execution_count": 52,
   "metadata": {},
   "outputs": [],
   "source": [
    "sample_car_mm.to_csv(\"Valid_Car_Hist_MinMax_Max800_v1.csv\", sep = ',', index= False)\n",
    "sample_car_ss.to_csv(\"Valid_Car_Hist_SS_Max800_v1.csv\", sep = ',', index= False)\n",
    "sample_noise_mm.to_csv(\"Valid_Noise_Hist_MinMax_Max800_v1.csv\", sep = ',', index= False)\n",
    "sample_noise_ss.to_csv(\"Valid_Noise_Hist_SS_Max00_v1.csv\", sep = ',', index= False)"
   ]
  },
  {
   "cell_type": "code",
   "execution_count": 53,
   "metadata": {},
   "outputs": [
    {
     "output_type": "execute_result",
     "data": {
      "text/plain": [
       "818"
      ]
     },
     "metadata": {},
     "execution_count": 53
    }
   ],
   "source": [
    "len(sample_car_mm)"
   ]
  },
  {
   "cell_type": "code",
   "execution_count": 54,
   "metadata": {},
   "outputs": [
    {
     "output_type": "execute_result",
     "data": {
      "text/plain": [
       "            0         1         2     3         4         5       6      7  \\\n",
       "0    0.000000  0.000000  0.125000  0.00  0.000000  0.300000  0.1000  0.000   \n",
       "1    0.333333  0.000000  0.125000  0.00  0.000000  0.100000  0.0000  0.250   \n",
       "2    0.000000  0.000000  0.125000  0.00  0.500000  0.000000  0.0000  0.000   \n",
       "3    0.000000  0.222222  0.250000  0.00  0.000000  0.000000  0.1000  0.000   \n",
       "4    0.666667  0.111111  0.000000  0.00  0.000000  0.100000  0.0000  0.000   \n",
       "..        ...       ...       ...   ...       ...       ...     ...    ...   \n",
       "842  0.000000  0.000000  0.071429  0.25  0.000000  0.045455  0.0625  0.125   \n",
       "843  0.000000  0.000000  0.000000  0.25  0.000000  0.000000  0.1250  0.125   \n",
       "844  0.000000  0.600000  0.000000  0.00  0.142857  0.000000  0.0000  0.000   \n",
       "845  0.000000  0.000000  0.000000  0.25  0.000000  0.000000  0.0625  0.250   \n",
       "846  0.000000  0.000000  0.000000  0.25  0.000000  0.181818  0.1875  0.125   \n",
       "\n",
       "         8         9  ...   791       792       793       794       795  \\\n",
       "0    0.000  0.000000  ...  0.00  0.100000  0.166667  0.000000  0.000000   \n",
       "1    0.000  0.000000  ...  0.00  0.000000  0.000000  0.142857  0.000000   \n",
       "2    0.500  0.600000  ...  0.50  0.000000  0.000000  0.142857  0.080000   \n",
       "3    0.000  0.200000  ...  0.00  0.000000  0.666667  0.142857  0.040000   \n",
       "4    0.250  0.000000  ...  0.25  0.000000  0.000000  0.142857  0.000000   \n",
       "..     ...       ...  ...   ...       ...       ...       ...       ...   \n",
       "842  0.250  0.000000  ...  0.25  0.166667  0.000000  0.000000  0.000000   \n",
       "843  0.250  0.000000  ...  0.00  0.166667  0.000000  0.000000  0.176471   \n",
       "844  0.000  0.166667  ...  0.00  0.000000  0.166667  0.000000  0.000000   \n",
       "845  0.000  0.000000  ...  0.00  0.166667  0.166667  0.000000  0.000000   \n",
       "846  0.125  0.500000  ...  0.00  0.500000  0.000000  0.000000  0.000000   \n",
       "\n",
       "          796       797  798  799  y  \n",
       "0    0.000000  0.333333  0.0  0.2  1  \n",
       "1    0.285714  0.166667  0.0  0.0  1  \n",
       "2    0.000000  0.333333  0.0  0.4  1  \n",
       "3    0.000000  0.000000  0.0  0.0  1  \n",
       "4    0.000000  0.000000  0.0  0.2  1  \n",
       "..        ...       ...  ...  ... ..  \n",
       "842  0.222222  0.000000  0.0  0.0  0  \n",
       "843  0.000000  0.250000  0.3  0.0  0  \n",
       "844  0.111111  0.000000  0.2  0.0  0  \n",
       "845  0.000000  0.250000  0.2  0.0  0  \n",
       "846  0.000000  0.000000  0.1  0.0  0  \n",
       "\n",
       "[1665 rows x 801 columns]"
      ],
      "text/html": "<div>\n<style scoped>\n    .dataframe tbody tr th:only-of-type {\n        vertical-align: middle;\n    }\n\n    .dataframe tbody tr th {\n        vertical-align: top;\n    }\n\n    .dataframe thead th {\n        text-align: right;\n    }\n</style>\n<table border=\"1\" class=\"dataframe\">\n  <thead>\n    <tr style=\"text-align: right;\">\n      <th></th>\n      <th>0</th>\n      <th>1</th>\n      <th>2</th>\n      <th>3</th>\n      <th>4</th>\n      <th>5</th>\n      <th>6</th>\n      <th>7</th>\n      <th>8</th>\n      <th>9</th>\n      <th>...</th>\n      <th>791</th>\n      <th>792</th>\n      <th>793</th>\n      <th>794</th>\n      <th>795</th>\n      <th>796</th>\n      <th>797</th>\n      <th>798</th>\n      <th>799</th>\n      <th>y</th>\n    </tr>\n  </thead>\n  <tbody>\n    <tr>\n      <th>0</th>\n      <td>0.000000</td>\n      <td>0.000000</td>\n      <td>0.125000</td>\n      <td>0.00</td>\n      <td>0.000000</td>\n      <td>0.300000</td>\n      <td>0.1000</td>\n      <td>0.000</td>\n      <td>0.000</td>\n      <td>0.000000</td>\n      <td>...</td>\n      <td>0.00</td>\n      <td>0.100000</td>\n      <td>0.166667</td>\n      <td>0.000000</td>\n      <td>0.000000</td>\n      <td>0.000000</td>\n      <td>0.333333</td>\n      <td>0.0</td>\n      <td>0.2</td>\n      <td>1</td>\n    </tr>\n    <tr>\n      <th>1</th>\n      <td>0.333333</td>\n      <td>0.000000</td>\n      <td>0.125000</td>\n      <td>0.00</td>\n      <td>0.000000</td>\n      <td>0.100000</td>\n      <td>0.0000</td>\n      <td>0.250</td>\n      <td>0.000</td>\n      <td>0.000000</td>\n      <td>...</td>\n      <td>0.00</td>\n      <td>0.000000</td>\n      <td>0.000000</td>\n      <td>0.142857</td>\n      <td>0.000000</td>\n      <td>0.285714</td>\n      <td>0.166667</td>\n      <td>0.0</td>\n      <td>0.0</td>\n      <td>1</td>\n    </tr>\n    <tr>\n      <th>2</th>\n      <td>0.000000</td>\n      <td>0.000000</td>\n      <td>0.125000</td>\n      <td>0.00</td>\n      <td>0.500000</td>\n      <td>0.000000</td>\n      <td>0.0000</td>\n      <td>0.000</td>\n      <td>0.500</td>\n      <td>0.600000</td>\n      <td>...</td>\n      <td>0.50</td>\n      <td>0.000000</td>\n      <td>0.000000</td>\n      <td>0.142857</td>\n      <td>0.080000</td>\n      <td>0.000000</td>\n      <td>0.333333</td>\n      <td>0.0</td>\n      <td>0.4</td>\n      <td>1</td>\n    </tr>\n    <tr>\n      <th>3</th>\n      <td>0.000000</td>\n      <td>0.222222</td>\n      <td>0.250000</td>\n      <td>0.00</td>\n      <td>0.000000</td>\n      <td>0.000000</td>\n      <td>0.1000</td>\n      <td>0.000</td>\n      <td>0.000</td>\n      <td>0.200000</td>\n      <td>...</td>\n      <td>0.00</td>\n      <td>0.000000</td>\n      <td>0.666667</td>\n      <td>0.142857</td>\n      <td>0.040000</td>\n      <td>0.000000</td>\n      <td>0.000000</td>\n      <td>0.0</td>\n      <td>0.0</td>\n      <td>1</td>\n    </tr>\n    <tr>\n      <th>4</th>\n      <td>0.666667</td>\n      <td>0.111111</td>\n      <td>0.000000</td>\n      <td>0.00</td>\n      <td>0.000000</td>\n      <td>0.100000</td>\n      <td>0.0000</td>\n      <td>0.000</td>\n      <td>0.250</td>\n      <td>0.000000</td>\n      <td>...</td>\n      <td>0.25</td>\n      <td>0.000000</td>\n      <td>0.000000</td>\n      <td>0.142857</td>\n      <td>0.000000</td>\n      <td>0.000000</td>\n      <td>0.000000</td>\n      <td>0.0</td>\n      <td>0.2</td>\n      <td>1</td>\n    </tr>\n    <tr>\n      <th>...</th>\n      <td>...</td>\n      <td>...</td>\n      <td>...</td>\n      <td>...</td>\n      <td>...</td>\n      <td>...</td>\n      <td>...</td>\n      <td>...</td>\n      <td>...</td>\n      <td>...</td>\n      <td>...</td>\n      <td>...</td>\n      <td>...</td>\n      <td>...</td>\n      <td>...</td>\n      <td>...</td>\n      <td>...</td>\n      <td>...</td>\n      <td>...</td>\n      <td>...</td>\n      <td>...</td>\n    </tr>\n    <tr>\n      <th>842</th>\n      <td>0.000000</td>\n      <td>0.000000</td>\n      <td>0.071429</td>\n      <td>0.25</td>\n      <td>0.000000</td>\n      <td>0.045455</td>\n      <td>0.0625</td>\n      <td>0.125</td>\n      <td>0.250</td>\n      <td>0.000000</td>\n      <td>...</td>\n      <td>0.25</td>\n      <td>0.166667</td>\n      <td>0.000000</td>\n      <td>0.000000</td>\n      <td>0.000000</td>\n      <td>0.222222</td>\n      <td>0.000000</td>\n      <td>0.0</td>\n      <td>0.0</td>\n      <td>0</td>\n    </tr>\n    <tr>\n      <th>843</th>\n      <td>0.000000</td>\n      <td>0.000000</td>\n      <td>0.000000</td>\n      <td>0.25</td>\n      <td>0.000000</td>\n      <td>0.000000</td>\n      <td>0.1250</td>\n      <td>0.125</td>\n      <td>0.250</td>\n      <td>0.000000</td>\n      <td>...</td>\n      <td>0.00</td>\n      <td>0.166667</td>\n      <td>0.000000</td>\n      <td>0.000000</td>\n      <td>0.176471</td>\n      <td>0.000000</td>\n      <td>0.250000</td>\n      <td>0.3</td>\n      <td>0.0</td>\n      <td>0</td>\n    </tr>\n    <tr>\n      <th>844</th>\n      <td>0.000000</td>\n      <td>0.600000</td>\n      <td>0.000000</td>\n      <td>0.00</td>\n      <td>0.142857</td>\n      <td>0.000000</td>\n      <td>0.0000</td>\n      <td>0.000</td>\n      <td>0.000</td>\n      <td>0.166667</td>\n      <td>...</td>\n      <td>0.00</td>\n      <td>0.000000</td>\n      <td>0.166667</td>\n      <td>0.000000</td>\n      <td>0.000000</td>\n      <td>0.111111</td>\n      <td>0.000000</td>\n      <td>0.2</td>\n      <td>0.0</td>\n      <td>0</td>\n    </tr>\n    <tr>\n      <th>845</th>\n      <td>0.000000</td>\n      <td>0.000000</td>\n      <td>0.000000</td>\n      <td>0.25</td>\n      <td>0.000000</td>\n      <td>0.000000</td>\n      <td>0.0625</td>\n      <td>0.250</td>\n      <td>0.000</td>\n      <td>0.000000</td>\n      <td>...</td>\n      <td>0.00</td>\n      <td>0.166667</td>\n      <td>0.166667</td>\n      <td>0.000000</td>\n      <td>0.000000</td>\n      <td>0.000000</td>\n      <td>0.250000</td>\n      <td>0.2</td>\n      <td>0.0</td>\n      <td>0</td>\n    </tr>\n    <tr>\n      <th>846</th>\n      <td>0.000000</td>\n      <td>0.000000</td>\n      <td>0.000000</td>\n      <td>0.25</td>\n      <td>0.000000</td>\n      <td>0.181818</td>\n      <td>0.1875</td>\n      <td>0.125</td>\n      <td>0.125</td>\n      <td>0.500000</td>\n      <td>...</td>\n      <td>0.00</td>\n      <td>0.500000</td>\n      <td>0.000000</td>\n      <td>0.000000</td>\n      <td>0.000000</td>\n      <td>0.000000</td>\n      <td>0.000000</td>\n      <td>0.1</td>\n      <td>0.0</td>\n      <td>0</td>\n    </tr>\n  </tbody>\n</table>\n<p>1665 rows × 801 columns</p>\n</div>"
     },
     "metadata": {},
     "execution_count": 54
    }
   ],
   "source": [
    "valid_car_df = sample_car_mm\n",
    "valid_noise_df = sample_noise_mm\n",
    "valid_car_df['y'] = 1\n",
    "valid_noise_df['y'] = 0\n",
    "valid_df = pd.concat([valid_car_df, valid_noise_df])\n",
    "valid_df"
   ]
  },
  {
   "cell_type": "code",
   "execution_count": 55,
   "metadata": {},
   "outputs": [
    {
     "output_type": "display_data",
     "data": {
      "text/plain": "     0      1         2    3      4         5         6         7    8     9  \\\n0  0.0  0.000  0.142857  0.0  0.125  0.083333  0.071429  0.090909  0.0  0.00   \n1  0.2  0.000  0.357143  0.0  0.250  0.000000  0.071429  0.000000  0.0  0.00   \n2  0.2  0.000  0.142857  0.0  0.125  0.000000  0.071429  0.000000  0.0  0.25   \n3  0.2  0.000  0.142857  0.0  0.000  0.000000  0.000000  0.000000  0.0  0.25   \n4  0.2  0.125  0.142857  0.0  0.250  0.166667  0.000000  0.000000  0.0  0.00   \n\n   ...       790    791       792    793  794       795    796       797  \\\n0  ...  0.000000  0.125  0.000000  0.000  0.0  0.000000  0.000  0.000000   \n1  ...  0.000000  0.000  0.000000  0.000  0.0  0.016949  0.125  0.000000   \n2  ...  0.166667  0.000  0.285714  0.000  0.0  0.008475  0.125  0.111111   \n3  ...  0.000000  0.000  0.142857  0.375  0.0  0.008475  0.000  0.555556   \n4  ...  0.000000  0.250  0.142857  0.000  0.0  0.008475  0.000  0.000000   \n\n        798       799  \n0  0.111111  0.000000  \n1  0.000000  0.000000  \n2  0.111111  0.571429  \n3  0.000000  0.142857  \n4  0.222222  0.000000  \n\n[5 rows x 800 columns]",
      "text/html": "<div>\n<style scoped>\n    .dataframe tbody tr th:only-of-type {\n        vertical-align: middle;\n    }\n\n    .dataframe tbody tr th {\n        vertical-align: top;\n    }\n\n    .dataframe thead th {\n        text-align: right;\n    }\n</style>\n<table border=\"1\" class=\"dataframe\">\n  <thead>\n    <tr style=\"text-align: right;\">\n      <th></th>\n      <th>0</th>\n      <th>1</th>\n      <th>2</th>\n      <th>3</th>\n      <th>4</th>\n      <th>5</th>\n      <th>6</th>\n      <th>7</th>\n      <th>8</th>\n      <th>9</th>\n      <th>...</th>\n      <th>790</th>\n      <th>791</th>\n      <th>792</th>\n      <th>793</th>\n      <th>794</th>\n      <th>795</th>\n      <th>796</th>\n      <th>797</th>\n      <th>798</th>\n      <th>799</th>\n    </tr>\n  </thead>\n  <tbody>\n    <tr>\n      <th>0</th>\n      <td>0.0</td>\n      <td>0.000</td>\n      <td>0.142857</td>\n      <td>0.0</td>\n      <td>0.125</td>\n      <td>0.083333</td>\n      <td>0.071429</td>\n      <td>0.090909</td>\n      <td>0.0</td>\n      <td>0.00</td>\n      <td>...</td>\n      <td>0.000000</td>\n      <td>0.125</td>\n      <td>0.000000</td>\n      <td>0.000</td>\n      <td>0.0</td>\n      <td>0.000000</td>\n      <td>0.000</td>\n      <td>0.000000</td>\n      <td>0.111111</td>\n      <td>0.000000</td>\n    </tr>\n    <tr>\n      <th>1</th>\n      <td>0.2</td>\n      <td>0.000</td>\n      <td>0.357143</td>\n      <td>0.0</td>\n      <td>0.250</td>\n      <td>0.000000</td>\n      <td>0.071429</td>\n      <td>0.000000</td>\n      <td>0.0</td>\n      <td>0.00</td>\n      <td>...</td>\n      <td>0.000000</td>\n      <td>0.000</td>\n      <td>0.000000</td>\n      <td>0.000</td>\n      <td>0.0</td>\n      <td>0.016949</td>\n      <td>0.125</td>\n      <td>0.000000</td>\n      <td>0.000000</td>\n      <td>0.000000</td>\n    </tr>\n    <tr>\n      <th>2</th>\n      <td>0.2</td>\n      <td>0.000</td>\n      <td>0.142857</td>\n      <td>0.0</td>\n      <td>0.125</td>\n      <td>0.000000</td>\n      <td>0.071429</td>\n      <td>0.000000</td>\n      <td>0.0</td>\n      <td>0.25</td>\n      <td>...</td>\n      <td>0.166667</td>\n      <td>0.000</td>\n      <td>0.285714</td>\n      <td>0.000</td>\n      <td>0.0</td>\n      <td>0.008475</td>\n      <td>0.125</td>\n      <td>0.111111</td>\n      <td>0.111111</td>\n      <td>0.571429</td>\n    </tr>\n    <tr>\n      <th>3</th>\n      <td>0.2</td>\n      <td>0.000</td>\n      <td>0.142857</td>\n      <td>0.0</td>\n      <td>0.000</td>\n      <td>0.000000</td>\n      <td>0.000000</td>\n      <td>0.000000</td>\n      <td>0.0</td>\n      <td>0.25</td>\n      <td>...</td>\n      <td>0.000000</td>\n      <td>0.000</td>\n      <td>0.142857</td>\n      <td>0.375</td>\n      <td>0.0</td>\n      <td>0.008475</td>\n      <td>0.000</td>\n      <td>0.555556</td>\n      <td>0.000000</td>\n      <td>0.142857</td>\n    </tr>\n    <tr>\n      <th>4</th>\n      <td>0.2</td>\n      <td>0.125</td>\n      <td>0.142857</td>\n      <td>0.0</td>\n      <td>0.250</td>\n      <td>0.166667</td>\n      <td>0.000000</td>\n      <td>0.000000</td>\n      <td>0.0</td>\n      <td>0.00</td>\n      <td>...</td>\n      <td>0.000000</td>\n      <td>0.250</td>\n      <td>0.142857</td>\n      <td>0.000</td>\n      <td>0.0</td>\n      <td>0.008475</td>\n      <td>0.000</td>\n      <td>0.000000</td>\n      <td>0.222222</td>\n      <td>0.000000</td>\n    </tr>\n  </tbody>\n</table>\n<p>5 rows × 800 columns</p>\n</div>"
     },
     "metadata": {}
    },
    {
     "output_type": "display_data",
     "data": {
      "text/plain": "0    1\n1    1\n2    1\n3    1\n4    1\nName: y, dtype: int64"
     },
     "metadata": {}
    }
   ],
   "source": [
    "#df = shuffle(df)\n",
    "X_valid = valid_df.drop(columns = ['y'])\n",
    "y = valid_df['y']\n",
    "\n",
    "#Do below when you have Columns 500 and 501\n",
    "# X = df.drop(columns = ['y', '500','501'])\n",
    "# y = df['y']\n",
    "display(X.head())\n",
    "display(y.head())"
   ]
  },
  {
   "cell_type": "code",
   "execution_count": 56,
   "metadata": {},
   "outputs": [],
   "source": [
    "valid_df = valid_df.sample(frac = 1)"
   ]
  },
  {
   "cell_type": "code",
   "execution_count": 58,
   "metadata": {},
   "outputs": [],
   "source": [
    "X_valid = valid_df.drop(columns='y')\n",
    "y_valid = valid_df['y']"
   ]
  },
  {
   "cell_type": "code",
   "execution_count": 60,
   "metadata": {},
   "outputs": [],
   "source": [
    "Y_valid_predict = model_SVC.predict(X_valid)"
   ]
  },
  {
   "cell_type": "code",
   "execution_count": 63,
   "metadata": {},
   "outputs": [
    {
     "output_type": "execute_result",
     "data": {
      "text/plain": [
       "0.6609336609336609"
      ]
     },
     "metadata": {},
     "execution_count": 63
    }
   ],
   "source": [
    "f1_score(y_true = y_valid.values, y_pred = Y_valid_predict)\n",
    "#Previous Iteration: 2.1% - 20%\n",
    "#After all corrections! v1: 0.994 -> v3: 0.997"
   ]
  },
  {
   "cell_type": "code",
   "execution_count": 62,
   "metadata": {},
   "outputs": [
    {
     "output_type": "execute_result",
     "data": {
      "text/plain": [
       "0.5027027027027027"
      ]
     },
     "metadata": {},
     "execution_count": 62
    }
   ],
   "source": [
    "accuracy_score(y_true = y_valid.values, y_pred = Y_valid_predict)\n",
    "#Previous Iteration: 2.1% - 20%\n",
    "#After all corrections! v1: 0.994 -> v3: 0.997"
   ]
  },
  {
   "cell_type": "code",
   "execution_count": 67,
   "metadata": {},
   "outputs": [],
   "source": []
  },
  {
   "cell_type": "code",
   "execution_count": null,
   "metadata": {},
   "outputs": [],
   "source": []
  }
 ]
}
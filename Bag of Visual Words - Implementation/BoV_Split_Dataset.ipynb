{
 "metadata": {
  "language_info": {
   "codemirror_mode": {
    "name": "ipython",
    "version": 3
   },
   "file_extension": ".py",
   "mimetype": "text/x-python",
   "name": "python",
   "nbconvert_exporter": "python",
   "pygments_lexer": "ipython3",
   "version": "3.7.7-final"
  },
  "orig_nbformat": 2,
  "kernelspec": {
   "name": "python3",
   "display_name": "Python 3"
  }
 },
 "nbformat": 4,
 "nbformat_minor": 2,
 "cells": [
  {
   "cell_type": "code",
   "execution_count": 15,
   "metadata": {},
   "outputs": [],
   "source": [
    "#Splitting the dataset into different parts!"
   ]
  },
  {
   "cell_type": "code",
   "execution_count": 16,
   "metadata": {},
   "outputs": [],
   "source": [
    "import cv2 as cv\n",
    "import os\n",
    "import numpy as np\n",
    "import json\n",
    "import pickle\n",
    "import time\n",
    "from sys import getsizeof\n",
    "from sklearn.cluster import KMeans\n",
    "from sklearn.preprocessing import StandardScaler\n",
    "from sklearn.svm import LinearSVC\n",
    "from sklearn.metrics import accuracy_score, confusion_matrix\n"
   ]
  },
  {
   "cell_type": "code",
   "execution_count": 17,
   "metadata": {},
   "outputs": [],
   "source": [
    "path_dir = os.getcwd()\n",
    "data_dir = \"\\\\\".join((path_dir, \"ORB_Dataset\"))\n",
    "data_dir\n",
    "train_dir = \"\\\\\".join((data_dir, \"train\"))\n",
    "car_dir_v1 = \"\\\\\".join((data_dir, \"train\", \"train_contains_car_ORB.json\"))\n",
    "nocar_dir_v1 = \"\\\\\".join((data_dir, \"train\", \"train_no_car_ORB.json\"))\n",
    "\n",
    "#os.listdir()"
   ]
  },
  {
   "cell_type": "code",
   "execution_count": 18,
   "metadata": {},
   "outputs": [
    {
     "output_type": "execute_result",
     "data": {
      "text/plain": [
       "'i:\\\\WPI\\\\Fall 2020\\\\Computer Vision - RBE 549\\\\CV Project\\\\BoW_Visual\\\\ORB_Dataset\\\\train'"
      ]
     },
     "metadata": {},
     "execution_count": 18
    }
   ],
   "source": [
    "train_dir"
   ]
  },
  {
   "cell_type": "code",
   "execution_count": 19,
   "metadata": {},
   "outputs": [],
   "source": [
    "#Collecting Descriptors from Train Data!\n",
    "train_files = os.listdir(train_dir)\n",
    "car_dir = \"\\\\\".join((train_dir, train_files[0]))\n",
    "nocar_dir = \"\\\\\".join((train_dir, train_files[1]))"
   ]
  },
  {
   "cell_type": "code",
   "execution_count": 20,
   "metadata": {},
   "outputs": [
    {
     "output_type": "stream",
     "name": "stdout",
     "text": [
      "i:\\WPI\\Fall 2020\\Computer Vision - RBE 549\\CV Project\\BoW_Visual\\ORB_Dataset\\train\\train_contains_car_ORB.json\ni:\\WPI\\Fall 2020\\Computer Vision - RBE 549\\CV Project\\BoW_Visual\\ORB_Dataset\\train\\train_contains_car_ORB.json\n"
     ]
    }
   ],
   "source": [
    "print(car_dir)\n",
    "print(car_dir_v1)"
   ]
  },
  {
   "cell_type": "code",
   "execution_count": 21,
   "metadata": {},
   "outputs": [
    {
     "output_type": "stream",
     "name": "stdout",
     "text": [
      "i:\\WPI\\Fall 2020\\Computer Vision - RBE 549\\CV Project\\BoW_Visual\\ORB_Dataset\\train\\train_no_car_ORB.json\ni:\\WPI\\Fall 2020\\Computer Vision - RBE 549\\CV Project\\BoW_Visual\\ORB_Dataset\\train\\train_no_car_ORB.json\n"
     ]
    }
   ],
   "source": [
    "print(nocar_dir)\n",
    "print(nocar_dir_v1)"
   ]
  },
  {
   "cell_type": "code",
   "execution_count": 22,
   "metadata": {},
   "outputs": [
    {
     "output_type": "stream",
     "name": "stdout",
     "text": [
      "20.309929609298706\n"
     ]
    }
   ],
   "source": [
    "#\n",
    "start_time = time.time()\n",
    "car_descriptor = []\n",
    "with open(car_dir, 'r') as file:\n",
    "    car_descriptor = json.load(file)\n",
    "print(time.time() - start_time)"
   ]
  },
  {
   "cell_type": "code",
   "execution_count": 23,
   "metadata": {},
   "outputs": [
    {
     "output_type": "stream",
     "name": "stdout",
     "text": [
      "16.80268096923828\n"
     ]
    }
   ],
   "source": [
    "start_time = time.time()\n",
    "noise_descriptor = []\n",
    "with open(nocar_dir, 'r') as file:\n",
    "    noise_descriptor = json.load(file)\n",
    "print(time.time() - start_time)"
   ]
  },
  {
   "cell_type": "code",
   "execution_count": 24,
   "metadata": {},
   "outputs": [
    {
     "output_type": "stream",
     "name": "stdout",
     "text": [
      "4.784897804260254\n"
     ]
    }
   ],
   "source": [
    "start_time = time.time()\n",
    "np.shape(car_descriptor)\n",
    "print(time.time() - start_time)"
   ]
  },
  {
   "cell_type": "code",
   "execution_count": 25,
   "metadata": {},
   "outputs": [],
   "source": [
    "car_descriptors_train = np.array(car_descriptor)\n",
    "car_labels = [1]*len(car_descriptors_train)\n"
   ]
  },
  {
   "cell_type": "code",
   "execution_count": 26,
   "metadata": {},
   "outputs": [
    {
     "output_type": "stream",
     "name": "stdout",
     "text": [
      "4.77944540977478\n"
     ]
    }
   ],
   "source": [
    "start_time = time.time()\n",
    "noise_descriptors_train = np.array(noise_descriptor)\n",
    "noise_labels = [0]*len(noise_descriptors_train)\n",
    "print(time.time() - start_time)"
   ]
  },
  {
   "cell_type": "code",
   "execution_count": 30,
   "metadata": {},
   "outputs": [
    {
     "output_type": "stream",
     "name": "stdout",
     "text": [
      "6554\n"
     ]
    }
   ],
   "source": [
    "len_car_fd =len(car_descriptors_train)\n",
    "print(len_car_fd)"
   ]
  },
  {
   "cell_type": "code",
   "execution_count": 31,
   "metadata": {},
   "outputs": [
    {
     "output_type": "stream",
     "name": "stdout",
     "text": [
      "6554\n"
     ]
    }
   ],
   "source": [
    "len_noise_fd = len(noise_descriptors_train)\n",
    "print(len_noise_fd)"
   ]
  },
  {
   "cell_type": "code",
   "execution_count": 74,
   "metadata": {},
   "outputs": [],
   "source": [
    "noise_split_1 = noise_descriptors_train[:int(6554 * 0.25)]\n",
    "noise_split_2 = noise_descriptors_train[int(6554 * 0.25):int(6554 * 0.5)]\n",
    "noise_split_3 = noise_descriptors_train[int(6554 * 0.5) :int(6554 * 0.75)]\n",
    "noise_split_4 = noise_descriptors_train[int(6554 * 0.75):]\n",
    "# car_split_2\n",
    "# car_split_3, \n",
    "# car_split_4 = np.split(car_descriptors_train, 4)\n",
    "# label_1, label_2, label_3, label_4 = np.split(labels, 4)"
   ]
  },
  {
   "cell_type": "code",
   "execution_count": 75,
   "metadata": {},
   "outputs": [],
   "source": [
    "car_split_1 = car_descriptors_train[:int(6554 * 0.25)]\n",
    "car_split_2 = car_descriptors_train[int(6554 * 0.25):int(6554 * 0.5)]\n",
    "car_split_3 = car_descriptors_train[int(6554 * 0.5) :int(6554 * 0.75)]\n",
    "car_split_4 = car_descriptors_train[int(6554 * 0.75):]"
   ]
  },
  {
   "cell_type": "code",
   "execution_count": 76,
   "metadata": {},
   "outputs": [],
   "source": [
    "with open(\"car_desc_split_1.pkl\", 'wb') as file_name:\n",
    "     pickle.dump(car_split_1, file_name)\n",
    "# with open(\"shuffled_label_split_1.pkl\", 'wb') as file_name:\n",
    "# #     pickle.dump(split_1, file_name)\n",
    "\n",
    "with open(\"car_desc_split_2.pkl\", 'wb') as file_name:\n",
    "     pickle.dump(car_split_2, file_name)\n",
    "# with open(\"shuffled_label_split_2.pkl\", 'wb') as file_name:\n",
    "# #     pickle.dump(split_1, file_name)\n",
    "\n",
    "with open(\"car_desc_split_3.pkl\", 'wb') as file_name:\n",
    "    pickle.dump(car_split_3, file_name)\n",
    "# with open(\"shuffled_label_split_3.pkl\", 'wb') as file_name:\n",
    "#     pickle.dump(split_1, file_name)\n",
    "\n",
    "with open(\"car_desc_split_4.pkl\", 'wb') as file_name:\n",
    "    pickle.dump(car_split_4, file_name)\n",
    "# with open(\"shuffled_label_split_4.pkl\", 'wb') as file_name:\n",
    "#     pickle.dump(split_1, file_name)"
   ]
  },
  {
   "cell_type": "code",
   "execution_count": 77,
   "metadata": {},
   "outputs": [],
   "source": [
    "with open(\"noise_desc_split_1.pkl\", 'wb') as file_name:\n",
    "     pickle.dump(noise_split_1, file_name)\n",
    "# with open(\"shuffled_label_split_1.pkl\", 'wb') as file_name:\n",
    "# #     pickle.dump(split_1, file_name)\n",
    "\n",
    "with open(\"noise_desc_split_2.pkl\", 'wb') as file_name:\n",
    "     pickle.dump(noise_split_2, file_name)\n",
    "# with open(\"shuffled_label_split_2.pkl\", 'wb') as file_name:\n",
    "# #     pickle.dump(split_1, file_name)\n",
    "\n",
    "with open(\"noise_desc_split_3.pkl\", 'wb') as file_name:\n",
    "    pickle.dump(noise_split_3, file_name)\n",
    "# with open(\"shuffled_label_split_3.pkl\", 'wb') as file_name:\n",
    "#     pickle.dump(split_1, file_name)\n",
    "\n",
    "with open(\"noise_desc_split_4.pkl\", 'wb') as file_name:\n",
    "    pickle.dump(noise_split_4, file_name)\n",
    "# with open(\"shuffled_label_split_4.pkl\", 'wb') as file_name:\n",
    "#     pickle.dump(split_1, file_name)"
   ]
  },
  {
   "cell_type": "code",
   "execution_count": 40,
   "metadata": {},
   "outputs": [],
   "source": [
    "# descriptors = np.concatenate([car_descriptors_train, noise_descriptors_train])\n",
    "# labels = np.concatenate([car_labels, noise_labels])"
   ]
  },
  {
   "cell_type": "code",
   "execution_count": 41,
   "metadata": {},
   "outputs": [],
   "source": [
    "# index = np.random.permutation(len(descriptors))\n",
    "# descriptors = descriptors[index]\n",
    "# labels = labels[index]"
   ]
  },
  {
   "cell_type": "code",
   "execution_count": 45,
   "metadata": {},
   "outputs": [
    {
     "output_type": "stream",
     "name": "stdout",
     "text": [
      "12.677692413330078\n"
     ]
    }
   ],
   "source": [
    "# start_time = time.time()\n",
    "# #car_descriptor = []\n",
    "# #desc_path = \"\\\\\".join(os.getcwd(), )\n",
    "# with open(\"shuffled_descriptors.pkl\", 'wb') as file_name:\n",
    "#     pickle.dump(descriptors, file_name)\n",
    "# print(time.time() - start_time)"
   ]
  },
  {
   "cell_type": "code",
   "execution_count": 50,
   "metadata": {},
   "outputs": [],
   "source": [
    "# #Splitting the descriptors into 8 Batches!\n",
    "# split_1, split_2, split_3, split_4 = np.split(descriptors, 4)\n",
    "# label_1, label_2, label_3, label_4 = np.split(labels, 4)"
   ]
  },
  {
   "cell_type": "code",
   "execution_count": 51,
   "metadata": {},
   "outputs": [],
   "source": [
    "# with open(\"shuffled_desc_split_1.pkl\", 'wb') as file_name:\n",
    "#     pickle.dump(split_1, file_name)\n",
    "# with open(\"shuffled_label_split_1.pkl\", 'wb') as file_name:\n",
    "#     pickle.dump(split_1, file_name)\n",
    "\n",
    "# with open(\"shuffled_desc_split_2.pkl\", 'wb') as file_name:\n",
    "#     pickle.dump(split_2, file_name)\n",
    "# with open(\"shuffled_label_split_2.pkl\", 'wb') as file_name:\n",
    "#     pickle.dump(split_1, file_name)\n",
    "\n",
    "# with open(\"shuffled_desc_split_3.pkl\", 'wb') as file_name:\n",
    "#     pickle.dump(split_3, file_name)\n",
    "# with open(\"shuffled_label_split_3.pkl\", 'wb') as file_name:\n",
    "#     pickle.dump(split_1, file_name)\n",
    "\n",
    "# with open(\"shuffled_desc_split_4.pkl\", 'wb') as file_name:\n",
    "#     pickle.dump(split_4, file_name)\n",
    "# with open(\"shuffled_label_split_4.pkl\", 'wb') as file_name:\n",
    "#     pickle.dump(split_1, file_name)"
   ]
  },
  {
   "cell_type": "code",
   "execution_count": null,
   "metadata": {},
   "outputs": [],
   "source": []
  }
 ]
}